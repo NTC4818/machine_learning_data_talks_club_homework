{
 "cells": [
  {
   "cell_type": "code",
   "execution_count": 1,
   "id": "7ed00f78-a94c-4ba5-9a5d-99220da0f5df",
   "metadata": {},
   "outputs": [],
   "source": [
    "import polars as pl"
   ]
  },
  {
   "cell_type": "code",
   "execution_count": 2,
   "id": "83e08ac1-e25c-44ca-96ff-2caf0f0d1506",
   "metadata": {},
   "outputs": [],
   "source": [
    "link_to_data = 'https://raw.githubusercontent.com/alexeygrigorev/datasets/master/course_lead_scoring.csv'"
   ]
  },
  {
   "cell_type": "code",
   "execution_count": 3,
   "id": "51a6cffb-988c-43e5-a23d-1deb3e26f323",
   "metadata": {},
   "outputs": [],
   "source": [
    "data = pl.read_csv(link_to_data)"
   ]
  },
  {
   "cell_type": "code",
   "execution_count": 4,
   "id": "7396882a-fa1a-4b89-a6d0-967cf78fdeb2",
   "metadata": {},
   "outputs": [
    {
     "data": {
      "text/html": [
       "<div><style>\n",
       ".dataframe > thead > tr,\n",
       ".dataframe > tbody > tr {\n",
       "  text-align: right;\n",
       "  white-space: pre-wrap;\n",
       "}\n",
       "</style>\n",
       "<small>shape: (1_462, 9)</small><table border=\"1\" class=\"dataframe\"><thead><tr><th>lead_source</th><th>industry</th><th>number_of_courses_viewed</th><th>annual_income</th><th>employment_status</th><th>location</th><th>interaction_count</th><th>lead_score</th><th>converted</th></tr><tr><td>str</td><td>str</td><td>i64</td><td>i64</td><td>str</td><td>str</td><td>i64</td><td>f64</td><td>i64</td></tr></thead><tbody><tr><td>&quot;paid_ads&quot;</td><td>null</td><td>1</td><td>79450</td><td>&quot;unemployed&quot;</td><td>&quot;south_america&quot;</td><td>4</td><td>0.94</td><td>1</td></tr><tr><td>&quot;social_media&quot;</td><td>&quot;retail&quot;</td><td>1</td><td>46992</td><td>&quot;employed&quot;</td><td>&quot;south_america&quot;</td><td>1</td><td>0.8</td><td>0</td></tr><tr><td>&quot;events&quot;</td><td>&quot;healthcare&quot;</td><td>5</td><td>78796</td><td>&quot;unemployed&quot;</td><td>&quot;australia&quot;</td><td>3</td><td>0.69</td><td>1</td></tr><tr><td>&quot;paid_ads&quot;</td><td>&quot;retail&quot;</td><td>2</td><td>83843</td><td>null</td><td>&quot;australia&quot;</td><td>1</td><td>0.87</td><td>0</td></tr><tr><td>&quot;referral&quot;</td><td>&quot;education&quot;</td><td>3</td><td>85012</td><td>&quot;self_employed&quot;</td><td>&quot;europe&quot;</td><td>3</td><td>0.62</td><td>1</td></tr><tr><td>&hellip;</td><td>&hellip;</td><td>&hellip;</td><td>&hellip;</td><td>&hellip;</td><td>&hellip;</td><td>&hellip;</td><td>&hellip;</td><td>&hellip;</td></tr><tr><td>&quot;referral&quot;</td><td>&quot;manufacturing&quot;</td><td>1</td><td>null</td><td>&quot;self_employed&quot;</td><td>&quot;north_america&quot;</td><td>4</td><td>0.53</td><td>1</td></tr><tr><td>&quot;referral&quot;</td><td>&quot;technology&quot;</td><td>3</td><td>65259</td><td>&quot;student&quot;</td><td>&quot;europe&quot;</td><td>2</td><td>0.24</td><td>1</td></tr><tr><td>&quot;paid_ads&quot;</td><td>&quot;technology&quot;</td><td>1</td><td>45688</td><td>&quot;student&quot;</td><td>&quot;north_america&quot;</td><td>3</td><td>0.02</td><td>1</td></tr><tr><td>&quot;referral&quot;</td><td>null</td><td>5</td><td>71016</td><td>&quot;self_employed&quot;</td><td>&quot;north_america&quot;</td><td>0</td><td>0.25</td><td>1</td></tr><tr><td>&quot;organic_search&quot;</td><td>&quot;finance&quot;</td><td>3</td><td>92855</td><td>&quot;student&quot;</td><td>&quot;north_america&quot;</td><td>3</td><td>0.41</td><td>1</td></tr></tbody></table></div>"
      ],
      "text/plain": [
       "shape: (1_462, 9)\n",
       "┌───────────┬───────────┬───────────┬───────────┬───┬───────────┬───────────┬───────────┬──────────┐\n",
       "│ lead_sour ┆ industry  ┆ number_of ┆ annual_in ┆ … ┆ location  ┆ interacti ┆ lead_scor ┆ converte │\n",
       "│ ce        ┆ ---       ┆ _courses_ ┆ come      ┆   ┆ ---       ┆ on_count  ┆ e         ┆ d        │\n",
       "│ ---       ┆ str       ┆ viewed    ┆ ---       ┆   ┆ str       ┆ ---       ┆ ---       ┆ ---      │\n",
       "│ str       ┆           ┆ ---       ┆ i64       ┆   ┆           ┆ i64       ┆ f64       ┆ i64      │\n",
       "│           ┆           ┆ i64       ┆           ┆   ┆           ┆           ┆           ┆          │\n",
       "╞═══════════╪═══════════╪═══════════╪═══════════╪═══╪═══════════╪═══════════╪═══════════╪══════════╡\n",
       "│ paid_ads  ┆ null      ┆ 1         ┆ 79450     ┆ … ┆ south_ame ┆ 4         ┆ 0.94      ┆ 1        │\n",
       "│           ┆           ┆           ┆           ┆   ┆ rica      ┆           ┆           ┆          │\n",
       "│ social_me ┆ retail    ┆ 1         ┆ 46992     ┆ … ┆ south_ame ┆ 1         ┆ 0.8       ┆ 0        │\n",
       "│ dia       ┆           ┆           ┆           ┆   ┆ rica      ┆           ┆           ┆          │\n",
       "│ events    ┆ healthcar ┆ 5         ┆ 78796     ┆ … ┆ australia ┆ 3         ┆ 0.69      ┆ 1        │\n",
       "│           ┆ e         ┆           ┆           ┆   ┆           ┆           ┆           ┆          │\n",
       "│ paid_ads  ┆ retail    ┆ 2         ┆ 83843     ┆ … ┆ australia ┆ 1         ┆ 0.87      ┆ 0        │\n",
       "│ referral  ┆ education ┆ 3         ┆ 85012     ┆ … ┆ europe    ┆ 3         ┆ 0.62      ┆ 1        │\n",
       "│ …         ┆ …         ┆ …         ┆ …         ┆ … ┆ …         ┆ …         ┆ …         ┆ …        │\n",
       "│ referral  ┆ manufactu ┆ 1         ┆ null      ┆ … ┆ north_ame ┆ 4         ┆ 0.53      ┆ 1        │\n",
       "│           ┆ ring      ┆           ┆           ┆   ┆ rica      ┆           ┆           ┆          │\n",
       "│ referral  ┆ technolog ┆ 3         ┆ 65259     ┆ … ┆ europe    ┆ 2         ┆ 0.24      ┆ 1        │\n",
       "│           ┆ y         ┆           ┆           ┆   ┆           ┆           ┆           ┆          │\n",
       "│ paid_ads  ┆ technolog ┆ 1         ┆ 45688     ┆ … ┆ north_ame ┆ 3         ┆ 0.02      ┆ 1        │\n",
       "│           ┆ y         ┆           ┆           ┆   ┆ rica      ┆           ┆           ┆          │\n",
       "│ referral  ┆ null      ┆ 5         ┆ 71016     ┆ … ┆ north_ame ┆ 0         ┆ 0.25      ┆ 1        │\n",
       "│           ┆           ┆           ┆           ┆   ┆ rica      ┆           ┆           ┆          │\n",
       "│ organic_s ┆ finance   ┆ 3         ┆ 92855     ┆ … ┆ north_ame ┆ 3         ┆ 0.41      ┆ 1        │\n",
       "│ earch     ┆           ┆           ┆           ┆   ┆ rica      ┆           ┆           ┆          │\n",
       "└───────────┴───────────┴───────────┴───────────┴───┴───────────┴───────────┴───────────┴──────────┘"
      ]
     },
     "execution_count": 4,
     "metadata": {},
     "output_type": "execute_result"
    }
   ],
   "source": [
    "data"
   ]
  },
  {
   "cell_type": "code",
   "execution_count": 5,
   "id": "ed0c1a8f-3ca5-42d8-96b9-9556888e632e",
   "metadata": {},
   "outputs": [
    {
     "data": {
      "text/html": [
       "<div><style>\n",
       ".dataframe > thead > tr,\n",
       ".dataframe > tbody > tr {\n",
       "  text-align: right;\n",
       "  white-space: pre-wrap;\n",
       "}\n",
       "</style>\n",
       "<small>shape: (9, 10)</small><table border=\"1\" class=\"dataframe\"><thead><tr><th>statistic</th><th>lead_source</th><th>industry</th><th>number_of_courses_viewed</th><th>annual_income</th><th>employment_status</th><th>location</th><th>interaction_count</th><th>lead_score</th><th>converted</th></tr><tr><td>str</td><td>str</td><td>str</td><td>f64</td><td>f64</td><td>str</td><td>str</td><td>f64</td><td>f64</td><td>f64</td></tr></thead><tbody><tr><td>&quot;count&quot;</td><td>&quot;1334&quot;</td><td>&quot;1328&quot;</td><td>1462.0</td><td>1281.0</td><td>&quot;1362&quot;</td><td>&quot;1399&quot;</td><td>1462.0</td><td>1462.0</td><td>1462.0</td></tr><tr><td>&quot;null_count&quot;</td><td>&quot;128&quot;</td><td>&quot;134&quot;</td><td>0.0</td><td>181.0</td><td>&quot;100&quot;</td><td>&quot;63&quot;</td><td>0.0</td><td>0.0</td><td>0.0</td></tr><tr><td>&quot;mean&quot;</td><td>null</td><td>null</td><td>2.031464</td><td>59886.273224</td><td>null</td><td>null</td><td>2.976744</td><td>0.506108</td><td>0.619015</td></tr><tr><td>&quot;std&quot;</td><td>null</td><td>null</td><td>1.449717</td><td>15070.140389</td><td>null</td><td>null</td><td>1.681564</td><td>0.288465</td><td>0.485795</td></tr><tr><td>&quot;min&quot;</td><td>&quot;events&quot;</td><td>&quot;education&quot;</td><td>0.0</td><td>13929.0</td><td>&quot;employed&quot;</td><td>&quot;africa&quot;</td><td>0.0</td><td>0.0</td><td>0.0</td></tr><tr><td>&quot;25%&quot;</td><td>null</td><td>null</td><td>1.0</td><td>49698.0</td><td>null</td><td>null</td><td>2.0</td><td>0.26</td><td>0.0</td></tr><tr><td>&quot;50%&quot;</td><td>null</td><td>null</td><td>2.0</td><td>60148.0</td><td>null</td><td>null</td><td>3.0</td><td>0.51</td><td>1.0</td></tr><tr><td>&quot;75%&quot;</td><td>null</td><td>null</td><td>3.0</td><td>69639.0</td><td>null</td><td>null</td><td>4.0</td><td>0.75</td><td>1.0</td></tr><tr><td>&quot;max&quot;</td><td>&quot;social_media&quot;</td><td>&quot;technology&quot;</td><td>9.0</td><td>109899.0</td><td>&quot;unemployed&quot;</td><td>&quot;south_america&quot;</td><td>11.0</td><td>1.0</td><td>1.0</td></tr></tbody></table></div>"
      ],
      "text/plain": [
       "shape: (9, 10)\n",
       "┌───────────┬───────────┬───────────┬───────────┬───┬───────────┬───────────┬───────────┬──────────┐\n",
       "│ statistic ┆ lead_sour ┆ industry  ┆ number_of ┆ … ┆ location  ┆ interacti ┆ lead_scor ┆ converte │\n",
       "│ ---       ┆ ce        ┆ ---       ┆ _courses_ ┆   ┆ ---       ┆ on_count  ┆ e         ┆ d        │\n",
       "│ str       ┆ ---       ┆ str       ┆ viewed    ┆   ┆ str       ┆ ---       ┆ ---       ┆ ---      │\n",
       "│           ┆ str       ┆           ┆ ---       ┆   ┆           ┆ f64       ┆ f64       ┆ f64      │\n",
       "│           ┆           ┆           ┆ f64       ┆   ┆           ┆           ┆           ┆          │\n",
       "╞═══════════╪═══════════╪═══════════╪═══════════╪═══╪═══════════╪═══════════╪═══════════╪══════════╡\n",
       "│ count     ┆ 1334      ┆ 1328      ┆ 1462.0    ┆ … ┆ 1399      ┆ 1462.0    ┆ 1462.0    ┆ 1462.0   │\n",
       "│ null_coun ┆ 128       ┆ 134       ┆ 0.0       ┆ … ┆ 63        ┆ 0.0       ┆ 0.0       ┆ 0.0      │\n",
       "│ t         ┆           ┆           ┆           ┆   ┆           ┆           ┆           ┆          │\n",
       "│ mean      ┆ null      ┆ null      ┆ 2.031464  ┆ … ┆ null      ┆ 2.976744  ┆ 0.506108  ┆ 0.619015 │\n",
       "│ std       ┆ null      ┆ null      ┆ 1.449717  ┆ … ┆ null      ┆ 1.681564  ┆ 0.288465  ┆ 0.485795 │\n",
       "│ min       ┆ events    ┆ education ┆ 0.0       ┆ … ┆ africa    ┆ 0.0       ┆ 0.0       ┆ 0.0      │\n",
       "│ 25%       ┆ null      ┆ null      ┆ 1.0       ┆ … ┆ null      ┆ 2.0       ┆ 0.26      ┆ 0.0      │\n",
       "│ 50%       ┆ null      ┆ null      ┆ 2.0       ┆ … ┆ null      ┆ 3.0       ┆ 0.51      ┆ 1.0      │\n",
       "│ 75%       ┆ null      ┆ null      ┆ 3.0       ┆ … ┆ null      ┆ 4.0       ┆ 0.75      ┆ 1.0      │\n",
       "│ max       ┆ social_me ┆ technolog ┆ 9.0       ┆ … ┆ south_ame ┆ 11.0      ┆ 1.0       ┆ 1.0      │\n",
       "│           ┆ dia       ┆ y         ┆           ┆   ┆ rica      ┆           ┆           ┆          │\n",
       "└───────────┴───────────┴───────────┴───────────┴───┴───────────┴───────────┴───────────┴──────────┘"
      ]
     },
     "execution_count": 5,
     "metadata": {},
     "output_type": "execute_result"
    }
   ],
   "source": [
    "data.describe()"
   ]
  },
  {
   "cell_type": "code",
   "execution_count": 6,
   "id": "e2583c55-28b1-4061-82de-f112365dfcd6",
   "metadata": {},
   "outputs": [],
   "source": [
    "import numpy as np\n",
    "from sklearn.model_selection import train_test_split"
   ]
  },
  {
   "cell_type": "code",
   "execution_count": 7,
   "id": "d42cbd1b-391d-4fe1-a5cf-5ef5c4fdbd14",
   "metadata": {},
   "outputs": [
    {
     "name": "stdout",
     "output_type": "stream",
     "text": [
      "lead_source: 128 missing values\n",
      "industry: 134 missing values\n",
      "annual_income: 181 missing values\n",
      "employment_status: 100 missing values\n",
      "location: 63 missing values\n"
     ]
    }
   ],
   "source": [
    "for col in data.columns:\n",
    "    null_count = data[col].null_count()\n",
    "    if null_count > 0:\n",
    "        print(f\"{col}: {null_count} missing values\")"
   ]
  },
  {
   "cell_type": "code",
   "execution_count": 8,
   "id": "4298e082-d4ac-41fb-b4b2-4462072cffd3",
   "metadata": {},
   "outputs": [
    {
     "name": "stdout",
     "output_type": "stream",
     "text": [
      "Categorical: ['lead_source', 'industry', 'employment_status', 'location']\n",
      "Numerical: ['number_of_courses_viewed', 'annual_income', 'interaction_count', 'lead_score']\n"
     ]
    }
   ],
   "source": [
    "categorical_cols = []\n",
    "numerical_cols = []\n",
    "\n",
    "for col in data.columns:\n",
    "    if col == 'converted':  # Skip target variable\n",
    "        continue\n",
    "    dtype = data[col].dtype\n",
    "    if dtype in [pl.Utf8, pl.Categorical]:\n",
    "        categorical_cols.append(col)\n",
    "    elif dtype in [pl.Int64, pl.Int32, pl.Float64, pl.Float32]:\n",
    "        numerical_cols.append(col)\n",
    "\n",
    "print(\"Categorical:\", categorical_cols)\n",
    "print(\"Numerical:\", numerical_cols)"
   ]
  },
  {
   "cell_type": "code",
   "execution_count": 9,
   "id": "0b0a57cb-4162-4261-9363-0f30087dcddf",
   "metadata": {},
   "outputs": [
    {
     "name": "stdout",
     "output_type": "stream",
     "text": [
      "shape: (1, 9)\n",
      "┌────────────┬──────────┬───────────┬───────────┬───┬──────────┬───────────┬───────────┬───────────┐\n",
      "│ lead_sourc ┆ industry ┆ number_of ┆ annual_in ┆ … ┆ location ┆ interacti ┆ lead_scor ┆ converted │\n",
      "│ e          ┆ ---      ┆ _courses_ ┆ come      ┆   ┆ ---      ┆ on_count  ┆ e         ┆ ---       │\n",
      "│ ---        ┆ u32      ┆ viewed    ┆ ---       ┆   ┆ u32      ┆ ---       ┆ ---       ┆ u32       │\n",
      "│ u32        ┆          ┆ ---       ┆ u32       ┆   ┆          ┆ u32       ┆ u32       ┆           │\n",
      "│            ┆          ┆ u32       ┆           ┆   ┆          ┆           ┆           ┆           │\n",
      "╞════════════╪══════════╪═══════════╪═══════════╪═══╪══════════╪═══════════╪═══════════╪═══════════╡\n",
      "│ 0          ┆ 0        ┆ 0         ┆ 0         ┆ … ┆ 0        ┆ 0         ┆ 0         ┆ 0         │\n",
      "└────────────┴──────────┴───────────┴───────────┴───┴──────────┴───────────┴───────────┴───────────┘\n"
     ]
    }
   ],
   "source": [
    "data_cleaned = data.with_columns([\n",
    "    # Fill categorical columns with 'NA'\n",
    "    pl.col(col).fill_null('NA') for col in categorical_cols\n",
    "] + [\n",
    "    # Fill numerical columns with 0.0\n",
    "    pl.col(col).fill_null(0.0) for col in numerical_cols\n",
    "])\n",
    "\n",
    "# Verify no more nulls\n",
    "print(data_cleaned.null_count())"
   ]
  },
  {
   "cell_type": "code",
   "execution_count": 11,
   "id": "3c8c148c-19c7-4c07-a1dc-e48bf9beeb87",
   "metadata": {},
   "outputs": [
    {
     "name": "stdout",
     "output_type": "stream",
     "text": [
      "Train: 877 (60.0%)\n",
      "Val: 292 (20.0%)\n",
      "Test: 293 (20.0%)\n"
     ]
    }
   ],
   "source": [
    "#TRAIN TEST SPLIT\n",
    "df = data_cleaned\n",
    "\n",
    "# Separate features and target\n",
    "X = df.drop('converted')\n",
    "y = df['converted']\n",
    "\n",
    "# First split: 60% train, 40% temp\n",
    "X_train, X_temp, y_train, y_temp = train_test_split(\n",
    "    X, y, test_size=0.4, random_state=1\n",
    ")\n",
    "\n",
    "# Second split: split the 40% into 20% validation, 20% test\n",
    "X_val, X_test, y_val, y_test = train_test_split(\n",
    "    X_temp, y_temp, test_size=0.5, random_state=1\n",
    ")\n",
    "\n",
    "print(f\"Train: {len(X_train)} ({len(X_train)/len(df)*100:.1f}%)\")\n",
    "print(f\"Val: {len(X_val)} ({len(X_val)/len(df)*100:.1f}%)\")\n",
    "print(f\"Test: {len(X_test)} ({len(X_test)/len(df)*100:.1f}%)\")"
   ]
  },
  {
   "cell_type": "code",
   "execution_count": 13,
   "id": "01dca432-f0b3-48ca-bae0-89c85956388a",
   "metadata": {},
   "outputs": [
    {
     "name": "stdout",
     "output_type": "stream",
     "text": [
      "lead_score: 0.6111\n",
      "number_of_courses_viewed: 0.7652\n",
      "interaction_count: 0.7272\n",
      "annual_income: 0.5446\n",
      "\n",
      "Highest AUC: number_of_courses_viewed with AUC = 0.7652\n"
     ]
    }
   ],
   "source": [
    "from sklearn.metrics import roc_auc_score\n",
    "\n",
    "# List of numerical variables to check\n",
    "numerical_vars = ['lead_score', 'number_of_courses_viewed', \n",
    "                  'interaction_count', 'annual_income']\n",
    "\n",
    "auc_scores = {}\n",
    "\n",
    "for var in numerical_vars:\n",
    "    feature_values = X_train[var].to_numpy()\n",
    "    \n",
    "    # Get target values\n",
    "    y_train_np = y_train.to_numpy()\n",
    "    \n",
    "    # Calculate AUC\n",
    "    auc = roc_auc_score(y_train_np, feature_values)\n",
    "    \n",
    "    # If AUC < 0.5, invert and recalculate\n",
    "    if auc < 0.5:\n",
    "        auc = roc_auc_score(y_train_np, -feature_values)\n",
    "        print(f\"{var}: {auc:.4f} (inverted)\")\n",
    "    else:\n",
    "        print(f\"{var}: {auc:.4f}\")\n",
    "    \n",
    "    auc_scores[var] = auc\n",
    "\n",
    "# Find the highest AUC\n",
    "best_feature = max(auc_scores, key=auc_scores.get)\n",
    "print(f\"\\nHighest AUC: {best_feature} with AUC = {auc_scores[best_feature]:.4f}\")"
   ]
  },
  {
   "cell_type": "code",
   "execution_count": 24,
   "id": "24f86b9d-3bee-4685-bdd8-36924308d324",
   "metadata": {},
   "outputs": [
    {
     "name": "stdout",
     "output_type": "stream",
     "text": [
      "Intersection threshold: 0.590\n",
      "Precision at intersection: 0.8073\n",
      "Recall at intersection: 0.8073\n",
      "Difference: 0.0000\n"
     ]
    }
   ],
   "source": [
    "from sklearn.metrics import precision_score, recall_score\n",
    "import numpy as np\n",
    "\n",
    "# Get predicted probabilities on validation set\n",
    "y_val_pred_proba = model.predict_proba(X_val_encoded)[:, 1]\n",
    "y_val_actual = y_val.to_numpy()\n",
    "\n",
    "# Test thresholds from 0.0 to 1.0 with step 0.01\n",
    "thresholds = np.arange(0.0, 1.01, 0.01)\n",
    "\n",
    "precisions = []\n",
    "recalls = []\n",
    "\n",
    "for threshold in thresholds:\n",
    "    # Convert probabilities to binary predictions\n",
    "    y_val_pred_binary = (y_val_pred_proba >= threshold).astype(int)\n",
    "    \n",
    "    # Calculate precision and recall\n",
    "    precision = precision_score(y_val_actual, y_val_pred_binary, zero_division=0)\n",
    "    recall = recall_score(y_val_actual, y_val_pred_binary, zero_division=0)\n",
    "    \n",
    "    precisions.append(precision)\n",
    "    recalls.append(recall)\n",
    "\n",
    "# Find intersection point (where precision ≈ recall)\n",
    "differences = np.abs(np.array(precisions) - np.array(recalls))\n",
    "intersection_idx = np.argmin(differences)\n",
    "intersection_threshold = thresholds[intersection_idx]\n",
    "\n",
    "print(f\"Intersection threshold: {intersection_threshold:.3f}\")\n",
    "print(f\"Precision at intersection: {precisions[intersection_idx]:.4f}\")\n",
    "print(f\"Recall at intersection: {recalls[intersection_idx]:.4f}\")\n",
    "print(f\"Difference: {differences[intersection_idx]:.4f}\")"
   ]
  },
  {
   "cell_type": "code",
   "execution_count": 25,
   "id": "2d3dd24b-a105-434f-9d45-0f5fe77efd66",
   "metadata": {},
   "outputs": [
    {
     "data": {
      "image/png": "[encoded data removed]",
      "text/plain": [
       "<Figure size 1000x600 with 1 Axes>"
      ]
     },
     "metadata": {},
     "output_type": "display_data"
    }
   ],
   "source": [
    "import matplotlib.pyplot as plt\n",
    "\n",
    "plt.figure(figsize=(10, 6))\n",
    "plt.plot(thresholds, precisions, label='Precision', linewidth=2)\n",
    "plt.plot(thresholds, recalls, label='Recall', linewidth=2)\n",
    "plt.axvline(intersection_threshold, color='red', linestyle='--', \n",
    "            label=f'Intersection: {intersection_threshold:.3f}', linewidth=2)\n",
    "plt.xlabel('Threshold', fontsize=12)\n",
    "plt.ylabel('Score', fontsize=12)\n",
    "plt.title('Precision and Recall vs Threshold', fontsize=14)\n",
    "plt.legend(fontsize=11)\n",
    "plt.grid(True, alpha=0.3)\n",
    "plt.xlim(0, 1)\n",
    "plt.ylim(0, 1)\n",
    "plt.show()"
   ]
  },
  {
   "cell_type": "code",
   "execution_count": 14,
   "id": "cdcdbc89-8e1a-4384-999b-f4633ed6377a",
   "metadata": {},
   "outputs": [
    {
     "name": "stdout",
     "output_type": "stream",
     "text": [
      "Number of training samples: 877\n",
      "Sample record: {'lead_source': 'organic_search', 'industry': 'education', 'number_of_courses_viewed': 3.0, 'annual_income': 69033.0, 'employment_status': 'self_employed', 'location': 'north_america', 'interaction_count': 1.0, 'lead_score': 0.43}\n"
     ]
    }
   ],
   "source": [
    "from sklearn.feature_extraction import DictVectorizer\n",
    "from sklearn.linear_model import LogisticRegression\n",
    "from sklearn.metrics import roc_auc_score\n",
    "\n",
    "# Convert Polars DataFrames to list of dictionaries\n",
    "# DictVectorizer expects records format\n",
    "train_dicts = X_train.to_dicts()\n",
    "val_dicts = X_val.to_dicts()\n",
    "\n",
    "print(f\"Number of training samples: {len(train_dicts)}\")\n",
    "print(f\"Sample record: {train_dicts[0]}\")"
   ]
  },
  {
   "cell_type": "code",
   "execution_count": 15,
   "id": "6038cfa0-3aa9-4f62-88a2-c95194b68a0a",
   "metadata": {},
   "outputs": [
    {
     "name": "stdout",
     "output_type": "stream",
     "text": [
      "Original features: 8\n",
      "Encoded features: 31\n"
     ]
    }
   ],
   "source": [
    "dv = DictVectorizer(sparse=False)\n",
    "\n",
    "X_train_encoded = dv.fit_transform(train_dicts)\n",
    "X_val_encoded = dv.transform(val_dicts)\n",
    "\n",
    "print(f\"Original features: {len(X_train.columns)}\")\n",
    "print(f\"Encoded features: {X_train_encoded.shape[1]}\")"
   ]
  },
  {
   "cell_type": "code",
   "execution_count": 16,
   "id": "5d7b9f7a-b446-4cf2-8aa3-2dde4ff14808",
   "metadata": {},
   "outputs": [
    {
     "name": "stdout",
     "output_type": "stream",
     "text": [
      "Model trained successfully!\n"
     ]
    }
   ],
   "source": [
    "model = LogisticRegression(solver='liblinear', C=1.0, max_iter=1000)\n",
    "\n",
    "# Train on encoded training data\n",
    "model.fit(X_train_encoded, y_train.to_numpy())\n",
    "\n",
    "print(\"Model trained successfully!\")"
   ]
  },
  {
   "cell_type": "code",
   "execution_count": 17,
   "id": "5fae38dc-c4f9-4149-955d-9428d86202ae",
   "metadata": {},
   "outputs": [
    {
     "name": "stdout",
     "output_type": "stream",
     "text": [
      "Validation AUC: 0.794\n"
     ]
    }
   ],
   "source": [
    "y_val_pred = model.predict_proba(X_val_encoded)[:, 1]\n",
    "\n",
    "# Calculate AUC\n",
    "auc_val = roc_auc_score(y_val.to_numpy(), y_val_pred)\n",
    "\n",
    "print(f\"Validation AUC: {auc_val:.3f}\")"
   ]
  },
  {
   "cell_type": "code",
   "execution_count": 23,
   "id": "ed1cdd41-23cc-4db4-9bb2-c0277018be4a",
   "metadata": {},
   "outputs": [
    {
     "name": "stdout",
     "output_type": "stream",
     "text": [
      "Optimal threshold: 0.47\n",
      "Maximum F1 score: 0.8485\n",
      "Precision at optimal threshold: 0.7679\n",
      "Recall at optimal threshold: 0.9479\n"
     ]
    }
   ],
   "source": [
    "from sklearn.metrics import precision_score, recall_score, f1_score\n",
    "\n",
    "y_val_pred_proba = model.predict_proba(X_val_encoded)[:, 1]\n",
    "y_val_actual = y_val.to_numpy()\n",
    "\n",
    "thresholds = np.arange(0.0, 1.01, 0.01)\n",
    "\n",
    "f1_scores = []\n",
    "precisions = []\n",
    "recalls = []\n",
    "\n",
    "for threshold in thresholds:\n",
    "    y_val_pred_binary = (y_val_pred_proba >= threshold).astype(int)\n",
    "    \n",
    "    try:\n",
    "        precision = precision_score(y_val_actual, y_val_pred_binary, zero_division=0)\n",
    "        recall = recall_score(y_val_actual, y_val_pred_binary, zero_division=0)\n",
    "        f1 = f1_score(y_val_actual, y_val_pred_binary, zero_division=0)\n",
    "    except:\n",
    "        precision = 0\n",
    "        recall = 0\n",
    "        f1 = 0\n",
    "    \n",
    "    precisions.append(precision)\n",
    "    recalls.append(recall)\n",
    "    f1_scores.append(f1)\n",
    "\n",
    "# Find the threshold with maximum F1\n",
    "max_f1_idx = np.argmax(f1_scores)\n",
    "optimal_threshold = thresholds[max_f1_idx]\n",
    "max_f1 = f1_scores[max_f1_idx]\n",
    "\n",
    "print(f\"Optimal threshold: {optimal_threshold:.2f}\")\n",
    "print(f\"Maximum F1 score: {max_f1:.4f}\")\n",
    "print(f\"Precision at optimal threshold: {precisions[max_f1_idx]:.4f}\")\n",
    "print(f\"Recall at optimal threshold: {recalls[max_f1_idx]:.4f}\")"
   ]
  },
  {
   "cell_type": "code",
   "execution_count": 26,
   "id": "70705b87-37c7-4608-9a09-f59c35192de4",
   "metadata": {},
   "outputs": [
    {
     "name": "stdout",
     "output_type": "stream",
     "text": [
      "Full training set size: 1169\n",
      "Test set size: 293\n"
     ]
    }
   ],
   "source": [
    "from sklearn.model_selection import KFold\n",
    "from sklearn.feature_extraction import DictVectorizer\n",
    "from sklearn.linear_model import LogisticRegression\n",
    "from sklearn.metrics import roc_auc_score\n",
    "import numpy as np\n",
    "\n",
    "# Combine train and validation (we keep test separate)\n",
    "# Option 1: If you still have the original data before split\n",
    "X_full_train = pl.concat([X_train, X_val])\n",
    "y_full_train = pl.concat([y_train, y_val])\n",
    "\n",
    "print(f\"Full training set size: {len(X_full_train)}\")\n",
    "print(f\"Test set size: {len(X_test)}\")"
   ]
  },
  {
   "cell_type": "code",
   "execution_count": 27,
   "id": "68abc939-744f-4bea-a92b-53eee6599517",
   "metadata": {},
   "outputs": [
    {
     "name": "stdout",
     "output_type": "stream",
     "text": [
      "\n",
      "Fold 1:\n",
      "  AUC: 0.8067\n",
      "\n",
      "Fold 2:\n",
      "  AUC: 0.8068\n",
      "\n",
      "Fold 3:\n",
      "  AUC: 0.8648\n",
      "\n",
      "Fold 4:\n",
      "  AUC: 0.8334\n",
      "\n",
      "Fold 5:\n",
      "  AUC: 0.8154\n",
      "\n",
      "==================================================\n",
      "AUC scores across folds: [0.806680393502631, 0.8067501795260512, 0.8648193508879363, 0.8334380892520429, 0.8153846153846154]\n",
      "Mean AUC: 0.8254\n",
      "Standard Deviation: 0.0220\n",
      "Std (3 decimals): 0.022\n"
     ]
    }
   ],
   "source": [
    "# Initialize KFold\n",
    "kfold = KFold(n_splits=5, shuffle=True, random_state=1)\n",
    "\n",
    "# Store AUC scores for each fold\n",
    "auc_scores = []\n",
    "\n",
    "# Get indices for splitting (KFold works with indices)\n",
    "X_full_array = X_full_train.to_numpy() if hasattr(X_full_train, 'to_numpy') else X_full_train\n",
    "y_full_array = y_full_train.to_numpy() if hasattr(y_full_train, 'to_numpy') else y_full_train\n",
    "\n",
    "# Iterate through folds\n",
    "for fold_idx, (train_idx, val_idx) in enumerate(kfold.split(X_full_train), 1):\n",
    "    print(f\"\\nFold {fold_idx}:\")\n",
    "    \n",
    "    # Split data using indices\n",
    "    # For Polars DataFrames\n",
    "    X_fold_train = X_full_train[train_idx]\n",
    "    X_fold_val = X_full_train[val_idx]\n",
    "    y_fold_train = y_full_train[train_idx]\n",
    "    y_fold_val = y_full_train[val_idx]\n",
    "    \n",
    "    # Convert to dictionaries for DictVectorizer\n",
    "    train_dicts = X_fold_train.to_dicts()\n",
    "    val_dicts = X_fold_val.to_dicts()\n",
    "    \n",
    "    # One-hot encode\n",
    "    dv = DictVectorizer(sparse=False)\n",
    "    X_fold_train_encoded = dv.fit_transform(train_dicts)\n",
    "    X_fold_val_encoded = dv.transform(val_dicts)\n",
    "    \n",
    "    # Train model\n",
    "    model = LogisticRegression(solver='liblinear', C=1.0, max_iter=1000)\n",
    "    model.fit(X_fold_train_encoded, y_fold_train.to_numpy())\n",
    "    \n",
    "    # Predict and evaluate\n",
    "    y_fold_pred = model.predict_proba(X_fold_val_encoded)[:, 1]\n",
    "    auc = roc_auc_score(y_fold_val.to_numpy(), y_fold_pred)\n",
    "    \n",
    "    auc_scores.append(auc)\n",
    "    print(f\"  AUC: {auc:.4f}\")\n",
    "\n",
    "# Calculate statistics\n",
    "mean_auc = np.mean(auc_scores)\n",
    "std_auc = np.std(auc_scores)\n",
    "\n",
    "print(f\"\\n{'='*50}\")\n",
    "print(f\"AUC scores across folds: {auc_scores}\")\n",
    "print(f\"Mean AUC: {mean_auc:.4f}\")\n",
    "print(f\"Standard Deviation: {std_auc:.4f}\")\n",
    "print(f\"Std (3 decimals): {round(std_auc, 3)}\")"
   ]
  },
  {
   "cell_type": "code",
   "execution_count": 29,
   "id": "6ad22c22-a0c2-4795-b1de-d7f84c2f6e08",
   "metadata": {},
   "outputs": [
    {
     "name": "stdout",
     "output_type": "stream",
     "text": [
      "df_full shape: (1169, 9)\n",
      "df_full should be 80% of original data (train 60% + val 20%)\n"
     ]
    }
   ],
   "source": [
    "# Using Polars concat and convert to pandas\n",
    "X_full_train = pl.concat([X_train, X_val])\n",
    "y_full_train = pl.concat([y_train, y_val])\n",
    "\n",
    "# Convert to pandas DataFrame for easier CV\n",
    "df_full = pl.concat([X_full_train, y_full_train.to_frame()], how='horizontal').to_pandas()\n",
    "\n",
    "print(f\"df_full shape: {df_full.shape}\")\n",
    "print(f\"df_full should be 80% of original data (train 60% + val 20%)\")"
   ]
  },
  {
   "cell_type": "code",
   "execution_count": 30,
   "id": "da3fc4ab-87da-4ed0-87ea-1bb541436f1d",
   "metadata": {},
   "outputs": [
    {
     "name": "stdout",
     "output_type": "stream",
     "text": [
      "\n",
      "==================================================\n",
      "Testing C = 1e-06\n",
      "==================================================\n",
      "  Fold 1: AUC = 0.5896\n",
      "  Fold 2: AUC = 0.5160\n",
      "  Fold 3: AUC = 0.5369\n",
      "  Fold 4: AUC = 0.5308\n",
      "  Fold 5: AUC = 0.5428\n",
      "\n",
      "C = 1e-06:\n",
      "  Mean AUC: 0.543\n",
      "  Std AUC:  0.025\n",
      "\n",
      "==================================================\n",
      "Testing C = 0.001\n",
      "==================================================\n",
      "  Fold 1: AUC = 0.8607\n",
      "  Fold 2: AUC = 0.8402\n",
      "  Fold 3: AUC = 0.8838\n",
      "  Fold 4: AUC = 0.8712\n",
      "  Fold 5: AUC = 0.8656\n",
      "\n",
      "C = 0.001:\n",
      "  Mean AUC: 0.864\n",
      "  Std AUC:  0.014\n",
      "\n",
      "==================================================\n",
      "Testing C = 1\n",
      "==================================================\n",
      "  Fold 1: AUC = 0.8067\n",
      "  Fold 2: AUC = 0.8068\n",
      "  Fold 3: AUC = 0.8648\n",
      "  Fold 4: AUC = 0.8334\n",
      "  Fold 5: AUC = 0.8154\n",
      "\n",
      "C = 1:\n",
      "  Mean AUC: 0.825\n",
      "  Std AUC:  0.022\n",
      "\n",
      "============================================================\n",
      "SUMMARY\n",
      "============================================================\n",
      "C               Mean AUC        Std AUC        \n",
      "------------------------------------------------------------\n",
      "1e-06           0.543           0.025          \n",
      "0.001           0.864           0.014          \n",
      "1               0.825           0.022          \n",
      "\n",
      "============================================================\n",
      "Best C: 0.001\n",
      "  Mean AUC: 0.864\n",
      "  Std AUC:  0.014\n",
      "============================================================\n"
     ]
    }
   ],
   "source": [
    "from sklearn.model_selection import KFold\n",
    "from sklearn.feature_extraction import DictVectorizer\n",
    "from sklearn.linear_model import LogisticRegression\n",
    "from sklearn.metrics import roc_auc_score\n",
    "import numpy as np\n",
    "\n",
    "# C values to test\n",
    "C_values = [0.000001, 0.001, 1]\n",
    "\n",
    "# Store results\n",
    "results = []\n",
    "\n",
    "# Test each C value\n",
    "for C in C_values:\n",
    "    print(f\"\\n{'='*50}\")\n",
    "    print(f\"Testing C = {C}\")\n",
    "    print('='*50)\n",
    "    \n",
    "    # Initialize KFold\n",
    "    kfold = KFold(n_splits=5, shuffle=True, random_state=1)\n",
    "    \n",
    "    # Store AUC scores for this C\n",
    "    auc_scores = []\n",
    "    \n",
    "    # K-Fold CV\n",
    "    for fold_idx, (train_idx, val_idx) in enumerate(kfold.split(df_full), 1):\n",
    "        # Split data\n",
    "        df_fold_train = df_full.iloc[train_idx]\n",
    "        df_fold_val = df_full.iloc[val_idx]\n",
    "        \n",
    "        # Separate X and y\n",
    "        X_fold_train = df_fold_train.drop('converted', axis=1)\n",
    "        y_fold_train = df_fold_train['converted']\n",
    "        X_fold_val = df_fold_val.drop('converted', axis=1)\n",
    "        y_fold_val = df_fold_val['converted']\n",
    "        \n",
    "        # Convert to dicts\n",
    "        train_dicts = X_fold_train.to_dict('records')\n",
    "        val_dicts = X_fold_val.to_dict('records')\n",
    "        \n",
    "        # One-hot encode\n",
    "        dv = DictVectorizer(sparse=False)\n",
    "        X_fold_train_encoded = dv.fit_transform(train_dicts)\n",
    "        X_fold_val_encoded = dv.transform(val_dicts)\n",
    "        \n",
    "        # Train model with current C\n",
    "        model = LogisticRegression(solver='liblinear', C=C, max_iter=1000)\n",
    "        model.fit(X_fold_train_encoded, y_fold_train)\n",
    "        \n",
    "        # Predict and evaluate\n",
    "        y_fold_pred = model.predict_proba(X_fold_val_encoded)[:, 1]\n",
    "        auc = roc_auc_score(y_fold_val, y_fold_pred)\n",
    "        \n",
    "        auc_scores.append(auc)\n",
    "        print(f\"  Fold {fold_idx}: AUC = {auc:.4f}\")\n",
    "    \n",
    "    # Calculate mean and std\n",
    "    mean_auc = np.mean(auc_scores)\n",
    "    std_auc = np.std(auc_scores)\n",
    "    \n",
    "    print(f\"\\nC = {C}:\")\n",
    "    print(f\"  Mean AUC: {round(mean_auc, 3)}\")\n",
    "    print(f\"  Std AUC:  {round(std_auc, 3)}\")\n",
    "    \n",
    "    # Store results\n",
    "    results.append({\n",
    "        'C': C,\n",
    "        'mean_auc': round(mean_auc, 3),\n",
    "        'std_auc': round(std_auc, 3),\n",
    "        'auc_scores': auc_scores\n",
    "    })\n",
    "\n",
    "# Print summary\n",
    "print(f\"\\n{'='*60}\")\n",
    "print(\"SUMMARY\")\n",
    "print('='*60)\n",
    "print(f\"{'C':<15} {'Mean AUC':<15} {'Std AUC':<15}\")\n",
    "print('-'*60)\n",
    "for r in results:\n",
    "    print(f\"{r['C']:<15} {r['mean_auc']:<15} {r['std_auc']:<15}\")\n",
    "\n",
    "# Find best C\n",
    "# Sort by: 1) highest mean, 2) lowest std, 3) smallest C\n",
    "results_sorted = sorted(results, key=lambda x: (-x['mean_auc'], x['std_auc'], x['C']))\n",
    "best = results_sorted[0]\n",
    "\n",
    "print(f\"\\n{'='*60}\")\n",
    "print(f\"Best C: {best['C']}\")\n",
    "print(f\"  Mean AUC: {best['mean_auc']}\")\n",
    "print(f\"  Std AUC:  {best['std_auc']}\")\n",
    "print('='*60)"
   ]
  },
  {
   "cell_type": "code",
   "execution_count": null,
   "id": "46e4bded-6133-4533-9cbe-d7a6b1bd49b4",
   "metadata": {},
   "outputs": [],
   "source": []
  }
 ],
 "metadata": {
  "kernelspec": {
   "display_name": "Python 3 (ipykernel)",
   "language": "python",
   "name": "python3"
  },
  "language_info": {
   "codemirror_mode": {
    "name": "ipython",
    "version": 3
   },
   "file_extension": ".py",
   "mimetype": "text/x-python",
   "name": "python",
   "nbconvert_exporter": "python",
   "pygments_lexer": "ipython3",
   "version": "3.12.1"
  }
 },
 "nbformat": 4,
 "nbformat_minor": 5
}
