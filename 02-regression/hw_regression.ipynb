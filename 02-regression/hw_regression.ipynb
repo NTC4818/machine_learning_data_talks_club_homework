{
 "cells": [
  {
   "cell_type": "code",
   "execution_count": 1,
   "id": "9db10e21-e261-4f0b-8e66-687d3386aeb4",
   "metadata": {},
   "outputs": [],
   "source": [
    "import polars as pl"
   ]
  },
  {
   "cell_type": "code",
   "execution_count": 2,
   "id": "f1009b6f-86e1-4612-88c1-ed5db1617969",
   "metadata": {},
   "outputs": [],
   "source": [
    "data = pl.read_csv('https://raw.githubusercontent.com/alexeygrigorev/datasets/master/car_fuel_efficiency.csv')"
   ]
  },
  {
   "cell_type": "code",
   "execution_count": 3,
   "id": "3c2ccead-7cac-40f2-b1e4-b72a99de6054",
   "metadata": {},
   "outputs": [
    {
     "data": {
      "text/html": [
       "<div><style>\n",
       ".dataframe > thead > tr,\n",
       ".dataframe > tbody > tr {\n",
       "  text-align: right;\n",
       "  white-space: pre-wrap;\n",
       "}\n",
       "</style>\n",
       "<small>shape: (5, 11)</small><table border=\"1\" class=\"dataframe\"><thead><tr><th>engine_displacement</th><th>num_cylinders</th><th>horsepower</th><th>vehicle_weight</th><th>acceleration</th><th>model_year</th><th>origin</th><th>fuel_type</th><th>drivetrain</th><th>num_doors</th><th>fuel_efficiency_mpg</th></tr><tr><td>i64</td><td>i64</td><td>i64</td><td>f64</td><td>f64</td><td>i64</td><td>str</td><td>str</td><td>str</td><td>i64</td><td>f64</td></tr></thead><tbody><tr><td>170</td><td>3</td><td>159</td><td>3413.433759</td><td>17.7</td><td>2003</td><td>&quot;Europe&quot;</td><td>&quot;Gasoline&quot;</td><td>&quot;All-wheel drive&quot;</td><td>0</td><td>13.231729</td></tr><tr><td>130</td><td>5</td><td>97</td><td>3149.664934</td><td>17.8</td><td>2007</td><td>&quot;USA&quot;</td><td>&quot;Gasoline&quot;</td><td>&quot;Front-wheel drive&quot;</td><td>0</td><td>13.688217</td></tr><tr><td>170</td><td>null</td><td>78</td><td>3079.038997</td><td>15.1</td><td>2018</td><td>&quot;Europe&quot;</td><td>&quot;Gasoline&quot;</td><td>&quot;Front-wheel drive&quot;</td><td>0</td><td>14.246341</td></tr><tr><td>220</td><td>4</td><td>null</td><td>2542.392402</td><td>20.2</td><td>2009</td><td>&quot;USA&quot;</td><td>&quot;Diesel&quot;</td><td>&quot;All-wheel drive&quot;</td><td>2</td><td>16.912736</td></tr><tr><td>210</td><td>1</td><td>140</td><td>3460.87099</td><td>14.4</td><td>2009</td><td>&quot;Europe&quot;</td><td>&quot;Gasoline&quot;</td><td>&quot;All-wheel drive&quot;</td><td>2</td><td>12.488369</td></tr></tbody></table></div>"
      ],
      "text/plain": [
       "shape: (5, 11)\n",
       "┌───────────┬───────────┬───────────┬───────────┬───┬───────────┬───────────┬───────────┬──────────┐\n",
       "│ engine_di ┆ num_cylin ┆ horsepowe ┆ vehicle_w ┆ … ┆ fuel_type ┆ drivetrai ┆ num_doors ┆ fuel_eff │\n",
       "│ splacemen ┆ ders      ┆ r         ┆ eight     ┆   ┆ ---       ┆ n         ┆ ---       ┆ iciency_ │\n",
       "│ t         ┆ ---       ┆ ---       ┆ ---       ┆   ┆ str       ┆ ---       ┆ i64       ┆ mpg      │\n",
       "│ ---       ┆ i64       ┆ i64       ┆ f64       ┆   ┆           ┆ str       ┆           ┆ ---      │\n",
       "│ i64       ┆           ┆           ┆           ┆   ┆           ┆           ┆           ┆ f64      │\n",
       "╞═══════════╪═══════════╪═══════════╪═══════════╪═══╪═══════════╪═══════════╪═══════════╪══════════╡\n",
       "│ 170       ┆ 3         ┆ 159       ┆ 3413.4337 ┆ … ┆ Gasoline  ┆ All-wheel ┆ 0         ┆ 13.23172 │\n",
       "│           ┆           ┆           ┆ 59        ┆   ┆           ┆ drive     ┆           ┆ 9        │\n",
       "│ 130       ┆ 5         ┆ 97        ┆ 3149.6649 ┆ … ┆ Gasoline  ┆ Front-whe ┆ 0         ┆ 13.68821 │\n",
       "│           ┆           ┆           ┆ 34        ┆   ┆           ┆ el drive  ┆           ┆ 7        │\n",
       "│ 170       ┆ null      ┆ 78        ┆ 3079.0389 ┆ … ┆ Gasoline  ┆ Front-whe ┆ 0         ┆ 14.24634 │\n",
       "│           ┆           ┆           ┆ 97        ┆   ┆           ┆ el drive  ┆           ┆ 1        │\n",
       "│ 220       ┆ 4         ┆ null      ┆ 2542.3924 ┆ … ┆ Diesel    ┆ All-wheel ┆ 2         ┆ 16.91273 │\n",
       "│           ┆           ┆           ┆ 02        ┆   ┆           ┆ drive     ┆           ┆ 6        │\n",
       "│ 210       ┆ 1         ┆ 140       ┆ 3460.8709 ┆ … ┆ Gasoline  ┆ All-wheel ┆ 2         ┆ 12.48836 │\n",
       "│           ┆           ┆           ┆ 9         ┆   ┆           ┆ drive     ┆           ┆ 9        │\n",
       "└───────────┴───────────┴───────────┴───────────┴───┴───────────┴───────────┴───────────┴──────────┘"
      ]
     },
     "execution_count": 3,
     "metadata": {},
     "output_type": "execute_result"
    }
   ],
   "source": [
    "data.head()"
   ]
  },
  {
   "cell_type": "code",
   "execution_count": 4,
   "id": "60174011-1b03-4144-b5d7-9482aa50ab61",
   "metadata": {},
   "outputs": [],
   "source": [
    "refined_data = data['engine_displacement',\n",
    "'horsepower',\n",
    "'vehicle_weight',\n",
    "'model_year',\n",
    "'fuel_efficiency_mpg']"
   ]
  },
  {
   "cell_type": "code",
   "execution_count": 5,
   "id": "8f4642e4-97d4-4d8a-94c2-331cccaf0b25",
   "metadata": {},
   "outputs": [
    {
     "data": {
      "text/html": [
       "<div><style>\n",
       ".dataframe > thead > tr,\n",
       ".dataframe > tbody > tr {\n",
       "  text-align: right;\n",
       "  white-space: pre-wrap;\n",
       "}\n",
       "</style>\n",
       "<small>shape: (5, 5)</small><table border=\"1\" class=\"dataframe\"><thead><tr><th>engine_displacement</th><th>horsepower</th><th>vehicle_weight</th><th>model_year</th><th>fuel_efficiency_mpg</th></tr><tr><td>i64</td><td>i64</td><td>f64</td><td>i64</td><td>f64</td></tr></thead><tbody><tr><td>170</td><td>159</td><td>3413.433759</td><td>2003</td><td>13.231729</td></tr><tr><td>130</td><td>97</td><td>3149.664934</td><td>2007</td><td>13.688217</td></tr><tr><td>170</td><td>78</td><td>3079.038997</td><td>2018</td><td>14.246341</td></tr><tr><td>220</td><td>null</td><td>2542.392402</td><td>2009</td><td>16.912736</td></tr><tr><td>210</td><td>140</td><td>3460.87099</td><td>2009</td><td>12.488369</td></tr></tbody></table></div>"
      ],
      "text/plain": [
       "shape: (5, 5)\n",
       "┌─────────────────────┬────────────┬────────────────┬────────────┬─────────────────────┐\n",
       "│ engine_displacement ┆ horsepower ┆ vehicle_weight ┆ model_year ┆ fuel_efficiency_mpg │\n",
       "│ ---                 ┆ ---        ┆ ---            ┆ ---        ┆ ---                 │\n",
       "│ i64                 ┆ i64        ┆ f64            ┆ i64        ┆ f64                 │\n",
       "╞═════════════════════╪════════════╪════════════════╪════════════╪═════════════════════╡\n",
       "│ 170                 ┆ 159        ┆ 3413.433759    ┆ 2003       ┆ 13.231729           │\n",
       "│ 130                 ┆ 97         ┆ 3149.664934    ┆ 2007       ┆ 13.688217           │\n",
       "│ 170                 ┆ 78         ┆ 3079.038997    ┆ 2018       ┆ 14.246341           │\n",
       "│ 220                 ┆ null       ┆ 2542.392402    ┆ 2009       ┆ 16.912736           │\n",
       "│ 210                 ┆ 140        ┆ 3460.87099     ┆ 2009       ┆ 12.488369           │\n",
       "└─────────────────────┴────────────┴────────────────┴────────────┴─────────────────────┘"
      ]
     },
     "execution_count": 5,
     "metadata": {},
     "output_type": "execute_result"
    }
   ],
   "source": [
    "refined_data.head()"
   ]
  },
  {
   "cell_type": "code",
   "execution_count": 6,
   "id": "70dd7a4c-f7b2-44ae-b24d-f226bb997eaf",
   "metadata": {},
   "outputs": [
    {
     "data": {
      "image/png": "[encoded data removed]",
      "text/plain": [
       "<Figure size 1000x600 with 1 Axes>"
      ]
     },
     "metadata": {},
     "output_type": "display_data"
    }
   ],
   "source": [
    "import matplotlib.pyplot as plt\n",
    "\n",
    "# If you have a Polars DataFrame called df\n",
    "plt.figure(figsize=(10, 6))\n",
    "plt.hist(refined_data['fuel_efficiency_mpg'].to_numpy(), bins=50, edgecolor='black')\n",
    "plt.xlabel('Fuel Efficiency (MPG)')\n",
    "plt.ylabel('Frequency')\n",
    "plt.title('Distribution of Fuel Efficiency')\n",
    "plt.show()"
   ]
  },
  {
   "cell_type": "code",
   "execution_count": 7,
   "id": "e5bd1f34-7e79-4461-aff5-92b5500e8f53",
   "metadata": {},
   "outputs": [
    {
     "data": {
      "text/html": [
       "<div><style>\n",
       ".dataframe > thead > tr,\n",
       ".dataframe > tbody > tr {\n",
       "  text-align: right;\n",
       "  white-space: pre-wrap;\n",
       "}\n",
       "</style>\n",
       "<small>shape: (9, 6)</small><table border=\"1\" class=\"dataframe\"><thead><tr><th>statistic</th><th>engine_displacement</th><th>horsepower</th><th>vehicle_weight</th><th>model_year</th><th>fuel_efficiency_mpg</th></tr><tr><td>str</td><td>f64</td><td>f64</td><td>f64</td><td>f64</td><td>f64</td></tr></thead><tbody><tr><td>&quot;count&quot;</td><td>9704.0</td><td>8996.0</td><td>9704.0</td><td>9704.0</td><td>9704.0</td></tr><tr><td>&quot;null_count&quot;</td><td>0.0</td><td>708.0</td><td>0.0</td><td>0.0</td><td>0.0</td></tr><tr><td>&quot;mean&quot;</td><td>199.708368</td><td>149.657292</td><td>3001.280993</td><td>2011.484027</td><td>14.985243</td></tr><tr><td>&quot;std&quot;</td><td>49.455319</td><td>29.879555</td><td>497.89486</td><td>6.659808</td><td>2.556468</td></tr><tr><td>&quot;min&quot;</td><td>10.0</td><td>37.0</td><td>952.681761</td><td>2000.0</td><td>6.200971</td></tr><tr><td>&quot;25%&quot;</td><td>170.0</td><td>130.0</td><td>2666.276537</td><td>2006.0</td><td>13.267773</td></tr><tr><td>&quot;50%&quot;</td><td>200.0</td><td>149.0</td><td>2993.241133</td><td>2012.0</td><td>15.007896</td></tr><tr><td>&quot;75%&quot;</td><td>230.0</td><td>170.0</td><td>3334.947881</td><td>2017.0</td><td>16.707602</td></tr><tr><td>&quot;max&quot;</td><td>380.0</td><td>271.0</td><td>4739.077089</td><td>2023.0</td><td>25.967222</td></tr></tbody></table></div>"
      ],
      "text/plain": [
       "shape: (9, 6)\n",
       "┌────────────┬────────────────────┬────────────┬────────────────┬─────────────┬────────────────────┐\n",
       "│ statistic  ┆ engine_displacemen ┆ horsepower ┆ vehicle_weight ┆ model_year  ┆ fuel_efficiency_mp │\n",
       "│ ---        ┆ t                  ┆ ---        ┆ ---            ┆ ---         ┆ g                  │\n",
       "│ str        ┆ ---                ┆ f64        ┆ f64            ┆ f64         ┆ ---                │\n",
       "│            ┆ f64                ┆            ┆                ┆             ┆ f64                │\n",
       "╞════════════╪════════════════════╪════════════╪════════════════╪═════════════╪════════════════════╡\n",
       "│ count      ┆ 9704.0             ┆ 8996.0     ┆ 9704.0         ┆ 9704.0      ┆ 9704.0             │\n",
       "│ null_count ┆ 0.0                ┆ 708.0      ┆ 0.0            ┆ 0.0         ┆ 0.0                │\n",
       "│ mean       ┆ 199.708368         ┆ 149.657292 ┆ 3001.280993    ┆ 2011.484027 ┆ 14.985243          │\n",
       "│ std        ┆ 49.455319          ┆ 29.879555  ┆ 497.89486      ┆ 6.659808    ┆ 2.556468           │\n",
       "│ min        ┆ 10.0               ┆ 37.0       ┆ 952.681761     ┆ 2000.0      ┆ 6.200971           │\n",
       "│ 25%        ┆ 170.0              ┆ 130.0      ┆ 2666.276537    ┆ 2006.0      ┆ 13.267773          │\n",
       "│ 50%        ┆ 200.0              ┆ 149.0      ┆ 2993.241133    ┆ 2012.0      ┆ 15.007896          │\n",
       "│ 75%        ┆ 230.0              ┆ 170.0      ┆ 3334.947881    ┆ 2017.0      ┆ 16.707602          │\n",
       "│ max        ┆ 380.0              ┆ 271.0      ┆ 4739.077089    ┆ 2023.0      ┆ 25.967222          │\n",
       "└────────────┴────────────────────┴────────────┴────────────────┴─────────────┴────────────────────┘"
      ]
     },
     "execution_count": 7,
     "metadata": {},
     "output_type": "execute_result"
    }
   ],
   "source": [
    "refined_data.describe() #horsepower has missing values. Horse Power Median 149"
   ]
  },
  {
   "cell_type": "code",
   "execution_count": 9,
   "id": "875b6da4-d920-4efe-b574-b2ab9e3463a8",
   "metadata": {},
   "outputs": [
    {
     "data": {
      "text/plain": [
       "-0.012060354670678449"
      ]
     },
     "execution_count": 9,
     "metadata": {},
     "output_type": "execute_result"
    }
   ],
   "source": [
    "refined_data['fuel_efficiency_mpg'].skew()"
   ]
  },
  {
   "cell_type": "code",
   "execution_count": 10,
   "id": "c54357cb-4bd3-4eed-9b71-55ec808cbcaf",
   "metadata": {},
   "outputs": [
    {
     "name": "stdout",
     "output_type": "stream",
     "text": [
      "Train size: 5822 (60.0%)\n",
      "Val size: 1940 (20.0%)\n",
      "Test size: 1942 (20.0%)\n"
     ]
    }
   ],
   "source": [
    "###Train Test Split\n",
    "\n",
    "# Shuffle with seed 42\n",
    "df_shuffled = refined_data.sample(fraction=1.0, shuffle=True, seed=42)\n",
    "\n",
    "# Calculate split indices\n",
    "n = len(df_shuffled)\n",
    "n_train = int(0.6 * n)\n",
    "n_val = int(0.2 * n)\n",
    "n_test = n - n_train - n_val  # remaining for test\n",
    "\n",
    "# Split the data\n",
    "df_train = df_shuffled[:n_train]\n",
    "df_val = df_shuffled[n_train:n_train + n_val]\n",
    "df_test = df_shuffled[n_train + n_val:]\n",
    "\n",
    "# Verify the splits\n",
    "print(f\"Train size: {len(df_train)} ({len(df_train)/n*100:.1f}%)\")\n",
    "print(f\"Val size: {len(df_val)} ({len(df_val)/n*100:.1f}%)\")\n",
    "print(f\"Test size: {len(df_test)} ({len(df_test)/n*100:.1f}%)\")"
   ]
  },
  {
   "cell_type": "code",
   "execution_count": 11,
   "id": "937b24e6-ea34-4007-901d-f6914a1a2b8d",
   "metadata": {},
   "outputs": [],
   "source": [
    "import numpy as np\n",
    "from sklearn.linear_model import LinearRegression\n",
    "from sklearn.metrics import mean_squared_error"
   ]
  },
  {
   "cell_type": "code",
   "execution_count": 12,
   "id": "70488ecc-3e3c-43ce-8bd7-74ff18dd945e",
   "metadata": {},
   "outputs": [],
   "source": [
    "missing_col = 'horsepower'  # from Q1\n",
    "\n",
    "# Strategy 1: Fill with 0\n",
    "df_train_fill_0 = df_train.with_columns(\n",
    "    pl.col(missing_col).fill_null(0)\n",
    ")\n",
    "df_val_fill_0 = df_val.with_columns(\n",
    "    pl.col(missing_col).fill_null(0)\n",
    ")"
   ]
  },
  {
   "cell_type": "code",
   "execution_count": 13,
   "id": "8399aee2-8756-4acd-ae23-d669620b5b89",
   "metadata": {},
   "outputs": [
    {
     "name": "stdout",
     "output_type": "stream",
     "text": [
      "Training mean for horsepower: 149.54260256172267\n"
     ]
    }
   ],
   "source": [
    "# Strategy 2: Fill with mean (computed from training only!)\n",
    "train_mean = df_train[missing_col].mean()\n",
    "print(f\"Training mean for {missing_col}: {train_mean}\")\n",
    "\n",
    "df_train_fill_mean = df_train.with_columns(\n",
    "    pl.col(missing_col).fill_null(train_mean)\n",
    ")\n",
    "df_val_fill_mean = df_val.with_columns(\n",
    "    pl.col(missing_col).fill_null(train_mean)\n",
    ")"
   ]
  },
  {
   "cell_type": "code",
   "execution_count": 14,
   "id": "db58f07d-4238-44eb-9be4-df0946f66a50",
   "metadata": {},
   "outputs": [],
   "source": [
    "# Define your feature columns (all except target)\n",
    "target = 'fuel_efficiency_mpg'\n",
    "feature_cols = [col for col in df_train.columns if col != target]\n",
    "\n",
    "# Prepare data for both strategies\n",
    "# Strategy 1: Fill with 0\n",
    "X_train_0 = df_train_fill_0.select(feature_cols).to_numpy()\n",
    "y_train_0 = df_train_fill_0[target].to_numpy()\n",
    "X_val_0 = df_val_fill_0.select(feature_cols).to_numpy()\n",
    "y_val_0 = df_val_fill_0[target].to_numpy()\n",
    "\n",
    "# Strategy 2: Fill with mean\n",
    "X_train_mean = df_train_fill_mean.select(feature_cols).to_numpy()\n",
    "y_train_mean = df_train_fill_mean[target].to_numpy()\n",
    "X_val_mean = df_val_fill_mean.select(feature_cols).to_numpy()\n",
    "y_val_mean = df_val_fill_mean[target].to_numpy()"
   ]
  },
  {
   "cell_type": "code",
   "execution_count": 15,
   "id": "96c1fbfa-c6e1-43f6-b96d-c51aa516780a",
   "metadata": {},
   "outputs": [
    {
     "name": "stdout",
     "output_type": "stream",
     "text": [
      "RMSE (fill with 0): 0.52\n",
      "RMSE (fill with mean): 0.45\n",
      "\n",
      "Better strategy: Fill with mean\n"
     ]
    }
   ],
   "source": [
    "# Model 1: Fill with 0\n",
    "model_0 = LinearRegression()\n",
    "model_0.fit(X_train_0, y_train_0)\n",
    "y_pred_0 = model_0.predict(X_val_0)\n",
    "rmse_0 = np.sqrt(mean_squared_error(y_val_0, y_pred_0))\n",
    "rmse_0 = round(rmse_0, 2)\n",
    "\n",
    "# Model 2: Fill with mean\n",
    "model_mean = LinearRegression()\n",
    "model_mean.fit(X_train_mean, y_train_mean)\n",
    "y_pred_mean = model_mean.predict(X_val_mean)\n",
    "rmse_mean = np.sqrt(mean_squared_error(y_val_mean, y_pred_mean))\n",
    "rmse_mean = round(rmse_mean, 2)\n",
    "\n",
    "# Compare\n",
    "print(f\"RMSE (fill with 0): {rmse_0}\")\n",
    "print(f\"RMSE (fill with mean): {rmse_mean}\")\n",
    "print(f\"\\nBetter strategy: {'Fill with 0' if rmse_0 < rmse_mean else 'Fill with mean'}\")"
   ]
  },
  {
   "cell_type": "code",
   "execution_count": 16,
   "id": "84de61d9-c2cc-4bc4-9097-794eef87c8d0",
   "metadata": {},
   "outputs": [],
   "source": [
    "from sklearn.linear_model import Ridge"
   ]
  },
  {
   "cell_type": "code",
   "execution_count": 17,
   "id": "30e6e4f8-d7ef-405e-b852-099a22ddc3a3",
   "metadata": {},
   "outputs": [],
   "source": [
    "# Use the datasets with 0-filled missing values\n",
    "X_train = df_train_fill_0.select(feature_cols).to_numpy()\n",
    "y_train = df_train_fill_0[target].to_numpy()\n",
    "X_val = df_val_fill_0.select(feature_cols).to_numpy()\n",
    "y_val = df_val_fill_0[target].to_numpy()"
   ]
  },
  {
   "cell_type": "code",
   "execution_count": 18,
   "id": "cab95ddd-2865-4334-89b6-f0b2548d25d2",
   "metadata": {},
   "outputs": [
    {
     "name": "stdout",
     "output_type": "stream",
     "text": [
      "r =      0: RMSE = 0.52\n",
      "r =   0.01: RMSE = 0.52\n",
      "r =    0.1: RMSE = 0.52\n",
      "r =      1: RMSE = 0.52\n",
      "r =      5: RMSE = 0.52\n",
      "r =     10: RMSE = 0.52\n",
      "r =    100: RMSE = 0.52\n",
      "\n",
      "Best r: 0 with RMSE: 0.52\n"
     ]
    }
   ],
   "source": [
    "# R values to try\n",
    "r_values = [0, 0.01, 0.1, 1, 5, 10, 100]\n",
    "rmse_scores = {}\n",
    "\n",
    "for r in r_values:\n",
    "    # Train Ridge regression with different r's\n",
    "    model = Ridge(alpha=r)\n",
    "    model.fit(X_train, y_train)\n",
    "    \n",
    "    # Predict on validation set\n",
    "    y_pred = model.predict(X_val)\n",
    "    \n",
    "    # Calculate RMSE\n",
    "    rmse = np.sqrt(mean_squared_error(y_val, y_pred))\n",
    "    rmse = round(rmse, 2)\n",
    "    rmse_scores[r] = rmse\n",
    "    \n",
    "    print(f\"r = {r:>6}: RMSE = {rmse}\")\n",
    "\n",
    "# Find the best r (smallest RMSE, and if tied, smallest r)\n",
    "best_r = min(rmse_scores.keys(), key=lambda x: (rmse_scores[x], x))\n",
    "print(f\"\\nBest r: {best_r} with RMSE: {rmse_scores[best_r]}\")"
   ]
  },
  {
   "cell_type": "code",
   "execution_count": 19,
   "id": "a2007c69-cf7c-45f8-bfe0-62b724eecf70",
   "metadata": {},
   "outputs": [
    {
     "name": "stdout",
     "output_type": "stream",
     "text": [
      "Number of features: 4\n",
      "Feature names: ['engine_displacement', 'horsepower', 'vehicle_weight', 'model_year']\n",
      "Sample feature values:\n",
      "[[ 160.          155.         2773.25732998 2011.        ]\n",
      " [ 210.          161.         3415.94445599 2020.        ]\n",
      " [ 190.          128.         2986.89611215 2010.        ]]\n",
      "\n",
      "Feature means: [ 198.96942631  138.3692889  3000.28339953 2011.40450017]\n",
      "Feature std devs: [ 49.06304625  48.69208991 498.62087718   6.65494449]\n"
     ]
    }
   ],
   "source": [
    "# Check your feature matrix\n",
    "print(f\"Number of features: {X_train.shape[1]}\")\n",
    "print(f\"Feature names: {feature_cols}\")\n",
    "print(f\"Sample feature values:\\n{X_train[:3]}\")\n",
    "\n",
    "# Check if features need scaling\n",
    "print(f\"\\nFeature means: {X_train.mean(axis=0)}\")\n",
    "print(f\"Feature std devs: {X_train.std(axis=0)}\")"
   ]
  },
  {
   "cell_type": "code",
   "execution_count": 21,
   "id": "00bc645f-030f-44bb-a992-635ae0fbe5b5",
   "metadata": {},
   "outputs": [
    {
     "name": "stdout",
     "output_type": "stream",
     "text": [
      "Seed 0: RMSE = 0.522519\n",
      "Seed 1: RMSE = 0.514123\n",
      "Seed 2: RMSE = 0.508345\n",
      "Seed 3: RMSE = 0.529045\n",
      "Seed 4: RMSE = 0.515037\n",
      "Seed 5: RMSE = 0.509885\n",
      "Seed 6: RMSE = 0.530637\n",
      "Seed 7: RMSE = 0.513060\n",
      "Seed 8: RMSE = 0.512659\n",
      "Seed 9: RMSE = 0.523974\n",
      "\n",
      "RMSE scores: [np.float64(0.5225191631182309), np.float64(0.5141232567966374), np.float64(0.5083449703282141), np.float64(0.5290452984148376), np.float64(0.515037038230515), np.float64(0.5098850872450077), np.float64(0.5306372834520162), np.float64(0.5130601570957072), np.float64(0.5126588391613368), np.float64(0.5239744276967817)]\n",
      "Standard deviation: 0.008\n"
     ]
    }
   ],
   "source": [
    "# List of seeds to try\n",
    "seeds = [0, 1, 2, 3, 4, 5, 6, 7, 8, 9]\n",
    "rmse_scores = []\n",
    "\n",
    "# Target and feature columns\n",
    "target = 'fuel_efficiency_mpg'\n",
    "feature_cols = ['engine_displacement', 'horsepower', 'vehicle_weight', 'model_year']\n",
    "\n",
    "for seed in seeds:\n",
    "    # Shuffle with current seed\n",
    "    df_shuffled = refined_data.sample(fraction=1.0, shuffle=True, seed=seed)\n",
    "    \n",
    "    # Calculate split indices\n",
    "    n = len(df_shuffled)\n",
    "    n_train = int(0.6 * n)\n",
    "    n_val = int(0.2 * n)\n",
    "    \n",
    "    # Split the data\n",
    "    df_train = df_shuffled[:n_train]\n",
    "    df_val = df_shuffled[n_train:n_train + n_val]\n",
    "    df_test = df_shuffled[n_train + n_val:]\n",
    "    \n",
    "    # Fill missing values with 0\n",
    "    df_train_filled = df_train.with_columns(\n",
    "        pl.col(feature_cols).fill_null(0)\n",
    "    )\n",
    "    df_val_filled = df_val.with_columns(\n",
    "        pl.col(feature_cols).fill_null(0)\n",
    "    )\n",
    "    \n",
    "    # Prepare features and target\n",
    "    X_train = df_train_filled.select(feature_cols).to_numpy()\n",
    "    y_train = df_train_filled[target].to_numpy()\n",
    "    X_val = df_val_filled.select(feature_cols).to_numpy()\n",
    "    y_val = df_val_filled[target].to_numpy()\n",
    "    \n",
    "    # Train linear regression (no regularization)\n",
    "    model = LinearRegression()\n",
    "    model.fit(X_train, y_train)\n",
    "    \n",
    "    # Predict and calculate RMSE\n",
    "    y_pred = model.predict(X_val)\n",
    "    rmse = np.sqrt(mean_squared_error(y_val, y_pred))\n",
    "    rmse_scores.append(rmse)\n",
    "    \n",
    "    print(f\"Seed {seed}: RMSE = {rmse:.6f}\")\n",
    "\n",
    "# Calculate standard deviation\n",
    "std = np.std(rmse_scores)\n",
    "std_rounded = round(std, 3)\n",
    "\n",
    "print(f\"\\nRMSE scores: {rmse_scores}\")\n",
    "print(f\"Standard deviation: {std_rounded}\")"
   ]
  },
  {
   "cell_type": "code",
   "execution_count": 22,
   "id": "1ee8e848-bbff-4137-a9d7-4e026bb506ea",
   "metadata": {},
   "outputs": [
    {
     "name": "stdout",
     "output_type": "stream",
     "text": [
      "Train size: 5822\n",
      "Val size: 1940\n",
      "Combined train+val size: 7762\n",
      "Test size: 1942\n",
      "\n",
      "RMSE on test dataset: 0.52\n"
     ]
    }
   ],
   "source": [
    "### Question 6\n",
    "\n",
    "# Split with seed 9\n",
    "df_shuffled = refined_data.sample(fraction=1.0, shuffle=True, seed=9)\n",
    "\n",
    "n = len(df_shuffled)\n",
    "n_train = int(0.6 * n)\n",
    "n_val = int(0.2 * n)\n",
    "\n",
    "df_train = df_shuffled[:n_train]\n",
    "df_val = df_shuffled[n_train:n_train + n_val]\n",
    "df_test = df_shuffled[n_train + n_val:]\n",
    "\n",
    "# Combine train and validation datasets\n",
    "df_train_val = pl.concat([df_train, df_val])\n",
    "\n",
    "print(f\"Train size: {len(df_train)}\")\n",
    "print(f\"Val size: {len(df_val)}\")\n",
    "print(f\"Combined train+val size: {len(df_train_val)}\")\n",
    "print(f\"Test size: {len(df_test)}\")\n",
    "\n",
    "# Fill missing values with 0\n",
    "target = 'fuel_efficiency_mpg'\n",
    "feature_cols = ['engine_displacement', 'horsepower', 'vehicle_weight', 'model_year']\n",
    "\n",
    "df_train_val_filled = df_train_val.with_columns(\n",
    "    pl.col(feature_cols).fill_null(0)\n",
    ")\n",
    "df_test_filled = df_test.with_columns(\n",
    "    pl.col(feature_cols).fill_null(0)\n",
    ")\n",
    "\n",
    "# Prepare features and target\n",
    "X_train_val = df_train_val_filled.select(feature_cols).to_numpy()\n",
    "y_train_val = df_train_val_filled[target].to_numpy()\n",
    "X_test = df_test_filled.select(feature_cols).to_numpy()\n",
    "y_test = df_test_filled[target].to_numpy()\n",
    "\n",
    "# Train Ridge regression with r=0.001\n",
    "model = Ridge(alpha=0.001)\n",
    "model.fit(X_train_val, y_train_val)\n",
    "\n",
    "# Predict on test set\n",
    "y_pred = model.predict(X_test)\n",
    "\n",
    "# Calculate RMSE\n",
    "rmse = np.sqrt(mean_squared_error(y_test, y_pred))\n",
    "rmse_rounded = round(rmse, 2)\n",
    "\n",
    "print(f\"\\nRMSE on test dataset: {rmse_rounded}\")"
   ]
  },
  {
   "cell_type": "code",
   "execution_count": null,
   "id": "f8c83f0a-1a57-4599-89ff-64a4429c962e",
   "metadata": {},
   "outputs": [],
   "source": []
  }
 ],
 "metadata": {
  "kernelspec": {
   "display_name": "Python 3 (ipykernel)",
   "language": "python",
   "name": "python3"
  },
  "language_info": {
   "codemirror_mode": {
    "name": "ipython",
    "version": 3
   },
   "file_extension": ".py",
   "mimetype": "text/x-python",
   "name": "python",
   "nbconvert_exporter": "python",
   "pygments_lexer": "ipython3",
   "version": "3.12.1"
  }
 },
 "nbformat": 4,
 "nbformat_minor": 5
}
