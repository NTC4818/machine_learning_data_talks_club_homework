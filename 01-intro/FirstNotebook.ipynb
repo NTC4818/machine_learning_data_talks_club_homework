{
 "cells": [
  {
   "cell_type": "code",
   "execution_count": 30,
   "id": "b59401a7-bc3e-456a-8502-411473841c80",
   "metadata": {},
   "outputs": [],
   "source": [
    "import polars as pl"
   ]
  },
  {
   "cell_type": "code",
   "execution_count": 31,
   "id": "6593f98d-4bf5-40a9-8dae-06331ac34cec",
   "metadata": {},
   "outputs": [],
   "source": [
    "import pandas as pd"
   ]
  },
  {
   "cell_type": "code",
   "execution_count": 32,
   "id": "c51b7add-2907-4cfa-8b2b-cf5047384e46",
   "metadata": {},
   "outputs": [
    {
     "data": {
      "text/plain": [
       "'2.3.1'"
      ]
     },
     "execution_count": 32,
     "metadata": {},
     "output_type": "execute_result"
    }
   ],
   "source": [
    "pd.__version__"
   ]
  },
  {
   "cell_type": "code",
   "execution_count": 33,
   "id": "b61784f9-3816-4fa4-87ba-16b0d6043a4b",
   "metadata": {},
   "outputs": [
    {
     "data": {
      "text/plain": [
       "'1.33.1'"
      ]
     },
     "execution_count": 33,
     "metadata": {},
     "output_type": "execute_result"
    }
   ],
   "source": [
    "pl.__version__"
   ]
  },
  {
   "cell_type": "code",
   "execution_count": 34,
   "id": "a5c0d32c-5185-4eb7-ba5c-6402a6aa1b4a",
   "metadata": {},
   "outputs": [],
   "source": [
    "df = pl.read_csv('https://raw.githubusercontent.com/alexeygrigorev/datasets/master/car_fuel_efficiency.csv')"
   ]
  },
  {
   "cell_type": "code",
   "execution_count": 35,
   "id": "b8d3013a-f748-455c-beff-bcf949ee7b30",
   "metadata": {},
   "outputs": [
    {
     "data": {
      "text/html": [
       "<div><style>\n",
       ".dataframe > thead > tr,\n",
       ".dataframe > tbody > tr {\n",
       "  text-align: right;\n",
       "  white-space: pre-wrap;\n",
       "}\n",
       "</style>\n",
       "<small>shape: (5, 11)</small><table border=\"1\" class=\"dataframe\"><thead><tr><th>engine_displacement</th><th>num_cylinders</th><th>horsepower</th><th>vehicle_weight</th><th>acceleration</th><th>model_year</th><th>origin</th><th>fuel_type</th><th>drivetrain</th><th>num_doors</th><th>fuel_efficiency_mpg</th></tr><tr><td>i64</td><td>i64</td><td>i64</td><td>f64</td><td>f64</td><td>i64</td><td>str</td><td>str</td><td>str</td><td>i64</td><td>f64</td></tr></thead><tbody><tr><td>170</td><td>3</td><td>159</td><td>3413.433759</td><td>17.7</td><td>2003</td><td>&quot;Europe&quot;</td><td>&quot;Gasoline&quot;</td><td>&quot;All-wheel drive&quot;</td><td>0</td><td>13.231729</td></tr><tr><td>130</td><td>5</td><td>97</td><td>3149.664934</td><td>17.8</td><td>2007</td><td>&quot;USA&quot;</td><td>&quot;Gasoline&quot;</td><td>&quot;Front-wheel drive&quot;</td><td>0</td><td>13.688217</td></tr><tr><td>170</td><td>null</td><td>78</td><td>3079.038997</td><td>15.1</td><td>2018</td><td>&quot;Europe&quot;</td><td>&quot;Gasoline&quot;</td><td>&quot;Front-wheel drive&quot;</td><td>0</td><td>14.246341</td></tr><tr><td>220</td><td>4</td><td>null</td><td>2542.392402</td><td>20.2</td><td>2009</td><td>&quot;USA&quot;</td><td>&quot;Diesel&quot;</td><td>&quot;All-wheel drive&quot;</td><td>2</td><td>16.912736</td></tr><tr><td>210</td><td>1</td><td>140</td><td>3460.87099</td><td>14.4</td><td>2009</td><td>&quot;Europe&quot;</td><td>&quot;Gasoline&quot;</td><td>&quot;All-wheel drive&quot;</td><td>2</td><td>12.488369</td></tr></tbody></table></div>"
      ],
      "text/plain": [
       "shape: (5, 11)\n",
       "┌───────────┬───────────┬───────────┬───────────┬───┬───────────┬───────────┬───────────┬──────────┐\n",
       "│ engine_di ┆ num_cylin ┆ horsepowe ┆ vehicle_w ┆ … ┆ fuel_type ┆ drivetrai ┆ num_doors ┆ fuel_eff │\n",
       "│ splacemen ┆ ders      ┆ r         ┆ eight     ┆   ┆ ---       ┆ n         ┆ ---       ┆ iciency_ │\n",
       "│ t         ┆ ---       ┆ ---       ┆ ---       ┆   ┆ str       ┆ ---       ┆ i64       ┆ mpg      │\n",
       "│ ---       ┆ i64       ┆ i64       ┆ f64       ┆   ┆           ┆ str       ┆           ┆ ---      │\n",
       "│ i64       ┆           ┆           ┆           ┆   ┆           ┆           ┆           ┆ f64      │\n",
       "╞═══════════╪═══════════╪═══════════╪═══════════╪═══╪═══════════╪═══════════╪═══════════╪══════════╡\n",
       "│ 170       ┆ 3         ┆ 159       ┆ 3413.4337 ┆ … ┆ Gasoline  ┆ All-wheel ┆ 0         ┆ 13.23172 │\n",
       "│           ┆           ┆           ┆ 59        ┆   ┆           ┆ drive     ┆           ┆ 9        │\n",
       "│ 130       ┆ 5         ┆ 97        ┆ 3149.6649 ┆ … ┆ Gasoline  ┆ Front-whe ┆ 0         ┆ 13.68821 │\n",
       "│           ┆           ┆           ┆ 34        ┆   ┆           ┆ el drive  ┆           ┆ 7        │\n",
       "│ 170       ┆ null      ┆ 78        ┆ 3079.0389 ┆ … ┆ Gasoline  ┆ Front-whe ┆ 0         ┆ 14.24634 │\n",
       "│           ┆           ┆           ┆ 97        ┆   ┆           ┆ el drive  ┆           ┆ 1        │\n",
       "│ 220       ┆ 4         ┆ null      ┆ 2542.3924 ┆ … ┆ Diesel    ┆ All-wheel ┆ 2         ┆ 16.91273 │\n",
       "│           ┆           ┆           ┆ 02        ┆   ┆           ┆ drive     ┆           ┆ 6        │\n",
       "│ 210       ┆ 1         ┆ 140       ┆ 3460.8709 ┆ … ┆ Gasoline  ┆ All-wheel ┆ 2         ┆ 12.48836 │\n",
       "│           ┆           ┆           ┆ 9         ┆   ┆           ┆ drive     ┆           ┆ 9        │\n",
       "└───────────┴───────────┴───────────┴───────────┴───┴───────────┴───────────┴───────────┴──────────┘"
      ]
     },
     "execution_count": 35,
     "metadata": {},
     "output_type": "execute_result"
    }
   ],
   "source": [
    "df.head()"
   ]
  },
  {
   "cell_type": "code",
   "execution_count": 36,
   "id": "e7ade89e-b9c5-49ed-8a6a-6d18c7b68307",
   "metadata": {},
   "outputs": [
    {
     "data": {
      "text/html": [
       "<div><style>\n",
       ".dataframe > thead > tr,\n",
       ".dataframe > tbody > tr {\n",
       "  text-align: right;\n",
       "  white-space: pre-wrap;\n",
       "}\n",
       "</style>\n",
       "<small>shape: (1, 11)</small><table border=\"1\" class=\"dataframe\"><thead><tr><th>engine_displacement</th><th>num_cylinders</th><th>horsepower</th><th>vehicle_weight</th><th>acceleration</th><th>model_year</th><th>origin</th><th>fuel_type</th><th>drivetrain</th><th>num_doors</th><th>fuel_efficiency_mpg</th></tr><tr><td>u32</td><td>u32</td><td>u32</td><td>u32</td><td>u32</td><td>u32</td><td>u32</td><td>u32</td><td>u32</td><td>u32</td><td>u32</td></tr></thead><tbody><tr><td>9704</td><td>9222</td><td>8996</td><td>9704</td><td>8774</td><td>9704</td><td>9704</td><td>9704</td><td>9704</td><td>9202</td><td>9704</td></tr></tbody></table></div>"
      ],
      "text/plain": [
       "shape: (1, 11)\n",
       "┌───────────┬───────────┬───────────┬───────────┬───┬───────────┬───────────┬───────────┬──────────┐\n",
       "│ engine_di ┆ num_cylin ┆ horsepowe ┆ vehicle_w ┆ … ┆ fuel_type ┆ drivetrai ┆ num_doors ┆ fuel_eff │\n",
       "│ splacemen ┆ ders      ┆ r         ┆ eight     ┆   ┆ ---       ┆ n         ┆ ---       ┆ iciency_ │\n",
       "│ t         ┆ ---       ┆ ---       ┆ ---       ┆   ┆ u32       ┆ ---       ┆ u32       ┆ mpg      │\n",
       "│ ---       ┆ u32       ┆ u32       ┆ u32       ┆   ┆           ┆ u32       ┆           ┆ ---      │\n",
       "│ u32       ┆           ┆           ┆           ┆   ┆           ┆           ┆           ┆ u32      │\n",
       "╞═══════════╪═══════════╪═══════════╪═══════════╪═══╪═══════════╪═══════════╪═══════════╪══════════╡\n",
       "│ 9704      ┆ 9222      ┆ 8996      ┆ 9704      ┆ … ┆ 9704      ┆ 9704      ┆ 9202      ┆ 9704     │\n",
       "└───────────┴───────────┴───────────┴───────────┴───┴───────────┴───────────┴───────────┴──────────┘"
      ]
     },
     "execution_count": 36,
     "metadata": {},
     "output_type": "execute_result"
    }
   ],
   "source": [
    "df.count()"
   ]
  },
  {
   "cell_type": "code",
   "execution_count": 37,
   "id": "cb0d933b-5770-4807-99cb-eeb525abf1ea",
   "metadata": {},
   "outputs": [
    {
     "data": {
      "text/plain": [
       "(9704, 11)"
      ]
     },
     "execution_count": 37,
     "metadata": {},
     "output_type": "execute_result"
    }
   ],
   "source": [
    "df.shape"
   ]
  },
  {
   "cell_type": "code",
   "execution_count": 8,
   "id": "597b0f7a-9e9d-47b6-b173-49272874323a",
   "metadata": {},
   "outputs": [
    {
     "data": {
      "text/html": [
       "<div><style>\n",
       ".dataframe > thead > tr,\n",
       ".dataframe > tbody > tr {\n",
       "  text-align: right;\n",
       "  white-space: pre-wrap;\n",
       "}\n",
       "</style>\n",
       "<small>shape: (1, 11)</small><table border=\"1\" class=\"dataframe\"><thead><tr><th>engine_displacement</th><th>num_cylinders</th><th>horsepower</th><th>vehicle_weight</th><th>acceleration</th><th>model_year</th><th>origin</th><th>fuel_type</th><th>drivetrain</th><th>num_doors</th><th>fuel_efficiency_mpg</th></tr><tr><td>u32</td><td>u32</td><td>u32</td><td>u32</td><td>u32</td><td>u32</td><td>u32</td><td>u32</td><td>u32</td><td>u32</td><td>u32</td></tr></thead><tbody><tr><td>2</td><td>2</td><td>1</td><td>2</td><td>2</td><td>2</td><td>2</td><td>2</td><td>2</td><td>2</td><td>2</td></tr></tbody></table></div>"
      ],
      "text/plain": [
       "shape: (1, 11)\n",
       "┌───────────┬───────────┬───────────┬───────────┬───┬───────────┬───────────┬───────────┬──────────┐\n",
       "│ engine_di ┆ num_cylin ┆ horsepowe ┆ vehicle_w ┆ … ┆ fuel_type ┆ drivetrai ┆ num_doors ┆ fuel_eff │\n",
       "│ splacemen ┆ ders      ┆ r         ┆ eight     ┆   ┆ ---       ┆ n         ┆ ---       ┆ iciency_ │\n",
       "│ t         ┆ ---       ┆ ---       ┆ ---       ┆   ┆ u32       ┆ ---       ┆ u32       ┆ mpg      │\n",
       "│ ---       ┆ u32       ┆ u32       ┆ u32       ┆   ┆           ┆ u32       ┆           ┆ ---      │\n",
       "│ u32       ┆           ┆           ┆           ┆   ┆           ┆           ┆           ┆ u32      │\n",
       "╞═══════════╪═══════════╪═══════════╪═══════════╪═══╪═══════════╪═══════════╪═══════════╪══════════╡\n",
       "│ 2         ┆ 2         ┆ 1         ┆ 2         ┆ … ┆ 2         ┆ 2         ┆ 2         ┆ 2        │\n",
       "└───────────┴───────────┴───────────┴───────────┴───┴───────────┴───────────┴───────────┴──────────┘"
      ]
     },
     "execution_count": 8,
     "metadata": {},
     "output_type": "execute_result"
    }
   ],
   "source": [
    "df.unique('fuel_type').count()"
   ]
  },
  {
   "cell_type": "code",
   "execution_count": 9,
   "id": "c4139556-9ce2-4959-a787-06082ded175f",
   "metadata": {},
   "outputs": [
    {
     "data": {
      "text/html": [
       "<div><style>\n",
       ".dataframe > thead > tr,\n",
       ".dataframe > tbody > tr {\n",
       "  text-align: right;\n",
       "  white-space: pre-wrap;\n",
       "}\n",
       "</style>\n",
       "<small>shape: (1, 11)</small><table border=\"1\" class=\"dataframe\"><thead><tr><th>engine_displacement</th><th>num_cylinders</th><th>horsepower</th><th>vehicle_weight</th><th>acceleration</th><th>model_year</th><th>origin</th><th>fuel_type</th><th>drivetrain</th><th>num_doors</th><th>fuel_efficiency_mpg</th></tr><tr><td>u32</td><td>u32</td><td>u32</td><td>u32</td><td>u32</td><td>u32</td><td>u32</td><td>u32</td><td>u32</td><td>u32</td><td>u32</td></tr></thead><tbody><tr><td>0</td><td>482</td><td>708</td><td>0</td><td>930</td><td>0</td><td>0</td><td>0</td><td>0</td><td>502</td><td>0</td></tr></tbody></table></div>"
      ],
      "text/plain": [
       "shape: (1, 11)\n",
       "┌───────────┬───────────┬───────────┬───────────┬───┬───────────┬───────────┬───────────┬──────────┐\n",
       "│ engine_di ┆ num_cylin ┆ horsepowe ┆ vehicle_w ┆ … ┆ fuel_type ┆ drivetrai ┆ num_doors ┆ fuel_eff │\n",
       "│ splacemen ┆ ders      ┆ r         ┆ eight     ┆   ┆ ---       ┆ n         ┆ ---       ┆ iciency_ │\n",
       "│ t         ┆ ---       ┆ ---       ┆ ---       ┆   ┆ u32       ┆ ---       ┆ u32       ┆ mpg      │\n",
       "│ ---       ┆ u32       ┆ u32       ┆ u32       ┆   ┆           ┆ u32       ┆           ┆ ---      │\n",
       "│ u32       ┆           ┆           ┆           ┆   ┆           ┆           ┆           ┆ u32      │\n",
       "╞═══════════╪═══════════╪═══════════╪═══════════╪═══╪═══════════╪═══════════╪═══════════╪══════════╡\n",
       "│ 0         ┆ 482       ┆ 708       ┆ 0         ┆ … ┆ 0         ┆ 0         ┆ 502       ┆ 0        │\n",
       "└───────────┴───────────┴───────────┴───────────┴───┴───────────┴───────────┴───────────┴──────────┘"
      ]
     },
     "execution_count": 9,
     "metadata": {},
     "output_type": "execute_result"
    }
   ],
   "source": [
    "df.null_count()"
   ]
  },
  {
   "cell_type": "code",
   "execution_count": 10,
   "id": "e02752fb-7957-4193-8b92-851955c484b3",
   "metadata": {},
   "outputs": [
    {
     "name": "stdout",
     "output_type": "stream",
     "text": [
      "Columns with nulls: 4\n"
     ]
    }
   ],
   "source": [
    "count = (df.null_count() > 0).sum_horizontal().item()\n",
    "print(f\"Columns with nulls: {count}\") "
   ]
  },
  {
   "cell_type": "code",
   "execution_count": 11,
   "id": "8818b4eb-77b0-4074-a8ba-c3484c064b5a",
   "metadata": {},
   "outputs": [
    {
     "data": {
      "text/plain": [
       "23.759122836520497"
      ]
     },
     "execution_count": 11,
     "metadata": {},
     "output_type": "execute_result"
    }
   ],
   "source": [
    "df.filter(pl.col('origin')=='Asia')['fuel_efficiency_mpg'].max()"
   ]
  },
  {
   "cell_type": "code",
   "execution_count": 12,
   "id": "e241a639-fdc4-4f57-a611-b2a59d250434",
   "metadata": {},
   "outputs": [
    {
     "name": "stdout",
     "output_type": "stream",
     "text": [
      "Print median horse power 149.0\n",
      "Print mode horse power 152\n",
      "Print median horse power 152.0\n"
     ]
    }
   ],
   "source": [
    "### Q6\n",
    "print(f\"Print median horse power {df['horsepower'].median()}\")\n",
    "print(f\"Print mode horse power {df['horsepower'].drop_nulls().mode().item()}\")\n",
    "column_mode = df['horsepower'].drop_nulls().mode().item()\n",
    "df_2 = df.with_columns(\n",
    "    pl.col('horsepower').fill_null(column_mode).alias('horsepower')\n",
    ")\n",
    "print(f\"Print median horse power {df_2['horsepower'].median()}\")"
   ]
  },
  {
   "cell_type": "code",
   "execution_count": 16,
   "id": "7a1ecf38-9418-435b-b4dd-05061e9b24cc",
   "metadata": {},
   "outputs": [
    {
     "data": {
      "text/html": [
       "<div><style>\n",
       ".dataframe > thead > tr,\n",
       ".dataframe > tbody > tr {\n",
       "  text-align: right;\n",
       "  white-space: pre-wrap;\n",
       "}\n",
       "</style>\n",
       "<small>shape: (7, 2)</small><table border=\"1\" class=\"dataframe\"><thead><tr><th>vehicle_weight</th><th>model_year</th></tr><tr><td>f64</td><td>i64</td></tr></thead><tbody><tr><td>2714.21931</td><td>2016</td></tr><tr><td>2783.868974</td><td>2010</td></tr><tr><td>3582.687368</td><td>2007</td></tr><tr><td>2231.808142</td><td>2011</td></tr><tr><td>2659.431451</td><td>2016</td></tr><tr><td>2844.227534</td><td>2014</td></tr><tr><td>3761.994038</td><td>2019</td></tr></tbody></table></div>"
      ],
      "text/plain": [
       "shape: (7, 2)\n",
       "┌────────────────┬────────────┐\n",
       "│ vehicle_weight ┆ model_year │\n",
       "│ ---            ┆ ---        │\n",
       "│ f64            ┆ i64        │\n",
       "╞════════════════╪════════════╡\n",
       "│ 2714.21931     ┆ 2016       │\n",
       "│ 2783.868974    ┆ 2010       │\n",
       "│ 3582.687368    ┆ 2007       │\n",
       "│ 2231.808142    ┆ 2011       │\n",
       "│ 2659.431451    ┆ 2016       │\n",
       "│ 2844.227534    ┆ 2014       │\n",
       "│ 3761.994038    ┆ 2019       │\n",
       "└────────────────┴────────────┘"
      ]
     },
     "execution_count": 16,
     "metadata": {},
     "output_type": "execute_result"
    }
   ],
   "source": [
    "### Q7 \n",
    "df.filter(pl.col('origin')=='Asia')['vehicle_weight','model_year'].head(7)"
   ]
  },
  {
   "cell_type": "code",
   "execution_count": 18,
   "id": "79094b92-b672-4c66-a18c-ce7e6926db1b",
   "metadata": {},
   "outputs": [],
   "source": [
    "X = df.filter(pl.col('origin')=='Asia')['vehicle_weight','model_year'].head(7).to_numpy()"
   ]
  },
  {
   "cell_type": "code",
   "execution_count": 19,
   "id": "a552b3fb-fdb6-4eab-8dbb-c07dc4307c31",
   "metadata": {},
   "outputs": [
    {
     "data": {
      "text/plain": [
       "array([[2714.21930965, 2016.        ],\n",
       "       [2783.86897424, 2010.        ],\n",
       "       [3582.68736772, 2007.        ],\n",
       "       [2231.8081416 , 2011.        ],\n",
       "       [2659.43145076, 2016.        ],\n",
       "       [2844.22753389, 2014.        ],\n",
       "       [3761.99403819, 2019.        ]])"
      ]
     },
     "execution_count": 19,
     "metadata": {},
     "output_type": "execute_result"
    }
   ],
   "source": [
    "X"
   ]
  },
  {
   "cell_type": "code",
   "execution_count": 20,
   "id": "fa477fc6-2aac-41d4-bc1a-fee29f2ffd37",
   "metadata": {},
   "outputs": [],
   "source": [
    "import numpy as np"
   ]
  },
  {
   "cell_type": "code",
   "execution_count": 21,
   "id": "f32c4b0c-7e50-4772-9cb0-e056d4fe974c",
   "metadata": {},
   "outputs": [],
   "source": [
    "XTX = X.T @ X"
   ]
  },
  {
   "cell_type": "code",
   "execution_count": 22,
   "id": "cb09b6f4-ff5a-40e5-8453-114dbd42233f",
   "metadata": {},
   "outputs": [
    {
     "data": {
      "text/plain": [
       "array([[62248334.33150762, 41431216.5073268 ],\n",
       "       [41431216.5073268 , 28373339.        ]])"
      ]
     },
     "execution_count": 22,
     "metadata": {},
     "output_type": "execute_result"
    }
   ],
   "source": [
    "XTX"
   ]
  },
  {
   "cell_type": "code",
   "execution_count": 23,
   "id": "9a64f6e9-8982-40f0-a28f-d1e04bb4305f",
   "metadata": {},
   "outputs": [
    {
     "data": {
      "text/plain": [
       "array([[ 5.71497081e-07, -8.34509443e-07],\n",
       "       [-8.34509443e-07,  1.25380877e-06]])"
      ]
     },
     "execution_count": 23,
     "metadata": {},
     "output_type": "execute_result"
    }
   ],
   "source": [
    "np.linalg.inv(XTX)"
   ]
  },
  {
   "cell_type": "code",
   "execution_count": 26,
   "id": "cf5f13ec-1884-482f-9473-a633e3658b22",
   "metadata": {},
   "outputs": [],
   "source": [
    "y = np.array([1100, 1300, 800, 900, 1000, 1100, 1200])"
   ]
  },
  {
   "cell_type": "code",
   "execution_count": 27,
   "id": "c95d47d6-7e92-4faa-8b77-b65e25240504",
   "metadata": {},
   "outputs": [
    {
     "data": {
      "text/plain": [
       "array([0.01386421, 0.5049067 ])"
      ]
     },
     "execution_count": 27,
     "metadata": {},
     "output_type": "execute_result"
    }
   ],
   "source": [
    "np.linalg.inv(XTX) @ X.T @ y"
   ]
  },
  {
   "cell_type": "code",
   "execution_count": 28,
   "id": "c2dc42c2-85e1-4502-82be-0e6932189575",
   "metadata": {},
   "outputs": [],
   "source": [
    "w = np.linalg.inv(XTX) @ X.T @ y"
   ]
  },
  {
   "cell_type": "code",
   "execution_count": 29,
   "id": "56e20762-1e3a-4f43-a8f8-216965907309",
   "metadata": {},
   "outputs": [
    {
     "data": {
      "text/plain": [
       "np.float64(0.5187709081074016)"
      ]
     },
     "execution_count": 29,
     "metadata": {},
     "output_type": "execute_result"
    }
   ],
   "source": [
    "w.sum()"
   ]
  },
  {
   "cell_type": "code",
   "execution_count": null,
   "id": "283d2380-52c4-43d6-adf5-19dc1f06a762",
   "metadata": {},
   "outputs": [],
   "source": []
  }
 ],
 "metadata": {
  "kernelspec": {
   "display_name": "Python 3 (ipykernel)",
   "language": "python",
   "name": "python3"
  },
  "language_info": {
   "codemirror_mode": {
    "name": "ipython",
    "version": 3
   },
   "file_extension": ".py",
   "mimetype": "text/x-python",
   "name": "python",
   "nbconvert_exporter": "python",
   "pygments_lexer": "ipython3",
   "version": "3.12.1"
  }
 },
 "nbformat": 4,
 "nbformat_minor": 5
}
