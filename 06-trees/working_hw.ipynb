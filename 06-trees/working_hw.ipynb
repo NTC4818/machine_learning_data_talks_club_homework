{
 "cells": [
  {
   "cell_type": "code",
   "execution_count": 1,
   "id": "2376724d-f976-432c-8ea7-96c18948076a",
   "metadata": {},
   "outputs": [],
   "source": [
    "import polars as pl"
   ]
  },
  {
   "cell_type": "code",
   "execution_count": 2,
   "id": "aa42fe80-c56e-4afb-94c8-d5e56a4dc977",
   "metadata": {},
   "outputs": [],
   "source": [
    "data = pl.read_csv('https://raw.githubusercontent.com/alexeygrigorev/datasets/master/car_fuel_efficiency.csv')"
   ]
  },
  {
   "cell_type": "code",
   "execution_count": 3,
   "id": "c3ff93d4-ba3e-4237-8180-b928d4734525",
   "metadata": {},
   "outputs": [
    {
     "data": {
      "text/html": [
       "<div><style>\n",
       ".dataframe > thead > tr,\n",
       ".dataframe > tbody > tr {\n",
       "  text-align: right;\n",
       "  white-space: pre-wrap;\n",
       "}\n",
       "</style>\n",
       "<small>shape: (5, 11)</small><table border=\"1\" class=\"dataframe\"><thead><tr><th>engine_displacement</th><th>num_cylinders</th><th>horsepower</th><th>vehicle_weight</th><th>acceleration</th><th>model_year</th><th>origin</th><th>fuel_type</th><th>drivetrain</th><th>num_doors</th><th>fuel_efficiency_mpg</th></tr><tr><td>i64</td><td>i64</td><td>i64</td><td>f64</td><td>f64</td><td>i64</td><td>str</td><td>str</td><td>str</td><td>i64</td><td>f64</td></tr></thead><tbody><tr><td>170</td><td>3</td><td>159</td><td>3413.433759</td><td>17.7</td><td>2003</td><td>&quot;Europe&quot;</td><td>&quot;Gasoline&quot;</td><td>&quot;All-wheel drive&quot;</td><td>0</td><td>13.231729</td></tr><tr><td>130</td><td>5</td><td>97</td><td>3149.664934</td><td>17.8</td><td>2007</td><td>&quot;USA&quot;</td><td>&quot;Gasoline&quot;</td><td>&quot;Front-wheel drive&quot;</td><td>0</td><td>13.688217</td></tr><tr><td>170</td><td>null</td><td>78</td><td>3079.038997</td><td>15.1</td><td>2018</td><td>&quot;Europe&quot;</td><td>&quot;Gasoline&quot;</td><td>&quot;Front-wheel drive&quot;</td><td>0</td><td>14.246341</td></tr><tr><td>220</td><td>4</td><td>null</td><td>2542.392402</td><td>20.2</td><td>2009</td><td>&quot;USA&quot;</td><td>&quot;Diesel&quot;</td><td>&quot;All-wheel drive&quot;</td><td>2</td><td>16.912736</td></tr><tr><td>210</td><td>1</td><td>140</td><td>3460.87099</td><td>14.4</td><td>2009</td><td>&quot;Europe&quot;</td><td>&quot;Gasoline&quot;</td><td>&quot;All-wheel drive&quot;</td><td>2</td><td>12.488369</td></tr></tbody></table></div>"
      ],
      "text/plain": [
       "shape: (5, 11)\n",
       "┌───────────┬───────────┬───────────┬───────────┬───┬───────────┬───────────┬───────────┬──────────┐\n",
       "│ engine_di ┆ num_cylin ┆ horsepowe ┆ vehicle_w ┆ … ┆ fuel_type ┆ drivetrai ┆ num_doors ┆ fuel_eff │\n",
       "│ splacemen ┆ ders      ┆ r         ┆ eight     ┆   ┆ ---       ┆ n         ┆ ---       ┆ iciency_ │\n",
       "│ t         ┆ ---       ┆ ---       ┆ ---       ┆   ┆ str       ┆ ---       ┆ i64       ┆ mpg      │\n",
       "│ ---       ┆ i64       ┆ i64       ┆ f64       ┆   ┆           ┆ str       ┆           ┆ ---      │\n",
       "│ i64       ┆           ┆           ┆           ┆   ┆           ┆           ┆           ┆ f64      │\n",
       "╞═══════════╪═══════════╪═══════════╪═══════════╪═══╪═══════════╪═══════════╪═══════════╪══════════╡\n",
       "│ 170       ┆ 3         ┆ 159       ┆ 3413.4337 ┆ … ┆ Gasoline  ┆ All-wheel ┆ 0         ┆ 13.23172 │\n",
       "│           ┆           ┆           ┆ 59        ┆   ┆           ┆ drive     ┆           ┆ 9        │\n",
       "│ 130       ┆ 5         ┆ 97        ┆ 3149.6649 ┆ … ┆ Gasoline  ┆ Front-whe ┆ 0         ┆ 13.68821 │\n",
       "│           ┆           ┆           ┆ 34        ┆   ┆           ┆ el drive  ┆           ┆ 7        │\n",
       "│ 170       ┆ null      ┆ 78        ┆ 3079.0389 ┆ … ┆ Gasoline  ┆ Front-whe ┆ 0         ┆ 14.24634 │\n",
       "│           ┆           ┆           ┆ 97        ┆   ┆           ┆ el drive  ┆           ┆ 1        │\n",
       "│ 220       ┆ 4         ┆ null      ┆ 2542.3924 ┆ … ┆ Diesel    ┆ All-wheel ┆ 2         ┆ 16.91273 │\n",
       "│           ┆           ┆           ┆ 02        ┆   ┆           ┆ drive     ┆           ┆ 6        │\n",
       "│ 210       ┆ 1         ┆ 140       ┆ 3460.8709 ┆ … ┆ Gasoline  ┆ All-wheel ┆ 2         ┆ 12.48836 │\n",
       "│           ┆           ┆           ┆ 9         ┆   ┆           ┆ drive     ┆           ┆ 9        │\n",
       "└───────────┴───────────┴───────────┴───────────┴───┴───────────┴───────────┴───────────┴──────────┘"
      ]
     },
     "execution_count": 3,
     "metadata": {},
     "output_type": "execute_result"
    }
   ],
   "source": [
    "data.head()"
   ]
  },
  {
   "cell_type": "code",
   "execution_count": 4,
   "id": "30b50022-5ac6-4e76-becb-b80bfbe99697",
   "metadata": {},
   "outputs": [
    {
     "name": "stdout",
     "output_type": "stream",
     "text": [
      "(9704, 11)\n",
      "shape: (5, 11)\n",
      "┌───────────┬───────────┬───────────┬───────────┬───┬───────────┬───────────┬───────────┬──────────┐\n",
      "│ engine_di ┆ num_cylin ┆ horsepowe ┆ vehicle_w ┆ … ┆ fuel_type ┆ drivetrai ┆ num_doors ┆ fuel_eff │\n",
      "│ splacemen ┆ ders      ┆ r         ┆ eight     ┆   ┆ ---       ┆ n         ┆ ---       ┆ iciency_ │\n",
      "│ t         ┆ ---       ┆ ---       ┆ ---       ┆   ┆ str       ┆ ---       ┆ i64       ┆ mpg      │\n",
      "│ ---       ┆ i64       ┆ i64       ┆ f64       ┆   ┆           ┆ str       ┆           ┆ ---      │\n",
      "│ i64       ┆           ┆           ┆           ┆   ┆           ┆           ┆           ┆ f64      │\n",
      "╞═══════════╪═══════════╪═══════════╪═══════════╪═══╪═══════════╪═══════════╪═══════════╪══════════╡\n",
      "│ 170       ┆ 3         ┆ 159       ┆ 3413.4337 ┆ … ┆ Gasoline  ┆ All-wheel ┆ 0         ┆ 13.23172 │\n",
      "│           ┆           ┆           ┆ 59        ┆   ┆           ┆ drive     ┆           ┆ 9        │\n",
      "│ 130       ┆ 5         ┆ 97        ┆ 3149.6649 ┆ … ┆ Gasoline  ┆ Front-whe ┆ 0         ┆ 13.68821 │\n",
      "│           ┆           ┆           ┆ 34        ┆   ┆           ┆ el drive  ┆           ┆ 7        │\n",
      "│ 170       ┆ null      ┆ 78        ┆ 3079.0389 ┆ … ┆ Gasoline  ┆ Front-whe ┆ 0         ┆ 14.24634 │\n",
      "│           ┆           ┆           ┆ 97        ┆   ┆           ┆ el drive  ┆           ┆ 1        │\n",
      "│ 220       ┆ 4         ┆ null      ┆ 2542.3924 ┆ … ┆ Diesel    ┆ All-wheel ┆ 2         ┆ 16.91273 │\n",
      "│           ┆           ┆           ┆ 02        ┆   ┆           ┆ drive     ┆           ┆ 6        │\n",
      "│ 210       ┆ 1         ┆ 140       ┆ 3460.8709 ┆ … ┆ Gasoline  ┆ All-wheel ┆ 2         ┆ 12.48836 │\n",
      "│           ┆           ┆           ┆ 9         ┆   ┆           ┆ drive     ┆           ┆ 9        │\n",
      "└───────────┴───────────┴───────────┴───────────┴───┴───────────┴───────────┴───────────┴──────────┘\n",
      "shape: (9, 12)\n",
      "┌───────────┬───────────┬───────────┬───────────┬───┬───────────┬───────────┬───────────┬──────────┐\n",
      "│ statistic ┆ engine_di ┆ num_cylin ┆ horsepowe ┆ … ┆ fuel_type ┆ drivetrai ┆ num_doors ┆ fuel_eff │\n",
      "│ ---       ┆ splacemen ┆ ders      ┆ r         ┆   ┆ ---       ┆ n         ┆ ---       ┆ iciency_ │\n",
      "│ str       ┆ t         ┆ ---       ┆ ---       ┆   ┆ str       ┆ ---       ┆ f64       ┆ mpg      │\n",
      "│           ┆ ---       ┆ f64       ┆ f64       ┆   ┆           ┆ str       ┆           ┆ ---      │\n",
      "│           ┆ f64       ┆           ┆           ┆   ┆           ┆           ┆           ┆ f64      │\n",
      "╞═══════════╪═══════════╪═══════════╪═══════════╪═══╪═══════════╪═══════════╪═══════════╪══════════╡\n",
      "│ count     ┆ 9704.0    ┆ 9222.0    ┆ 8996.0    ┆ … ┆ 9704      ┆ 9704      ┆ 9202.0    ┆ 9704.0   │\n",
      "│ null_coun ┆ 0.0       ┆ 482.0     ┆ 708.0     ┆ … ┆ 0         ┆ 0         ┆ 502.0     ┆ 0.0      │\n",
      "│ t         ┆           ┆           ┆           ┆   ┆           ┆           ┆           ┆          │\n",
      "│ mean      ┆ 199.70836 ┆ 3.962481  ┆ 149.65729 ┆ … ┆ null      ┆ null      ┆ -0.006412 ┆ 14.98524 │\n",
      "│           ┆ 8         ┆           ┆ 2         ┆   ┆           ┆           ┆           ┆ 3        │\n",
      "│ std       ┆ 49.455319 ┆ 1.999323  ┆ 29.879555 ┆ … ┆ null      ┆ null      ┆ 1.048162  ┆ 2.556468 │\n",
      "│ min       ┆ 10.0      ┆ 0.0       ┆ 37.0      ┆ … ┆ Diesel    ┆ All-wheel ┆ -4.0      ┆ 6.200971 │\n",
      "│           ┆           ┆           ┆           ┆   ┆           ┆ drive     ┆           ┆          │\n",
      "│ 25%       ┆ 170.0     ┆ 3.0       ┆ 130.0     ┆ … ┆ null      ┆ null      ┆ -1.0      ┆ 13.26777 │\n",
      "│           ┆           ┆           ┆           ┆   ┆           ┆           ┆           ┆ 3        │\n",
      "│ 50%       ┆ 200.0     ┆ 4.0       ┆ 149.0     ┆ … ┆ null      ┆ null      ┆ 0.0       ┆ 15.00789 │\n",
      "│           ┆           ┆           ┆           ┆   ┆           ┆           ┆           ┆ 6        │\n",
      "│ 75%       ┆ 230.0     ┆ 5.0       ┆ 170.0     ┆ … ┆ null      ┆ null      ┆ 1.0       ┆ 16.70760 │\n",
      "│           ┆           ┆           ┆           ┆   ┆           ┆           ┆           ┆ 2        │\n",
      "│ max       ┆ 380.0     ┆ 13.0      ┆ 271.0     ┆ … ┆ Gasoline  ┆ Front-whe ┆ 4.0       ┆ 25.96722 │\n",
      "│           ┆           ┆           ┆           ┆   ┆           ┆ el drive  ┆           ┆ 2        │\n",
      "└───────────┴───────────┴───────────┴───────────┴───┴───────────┴───────────┴───────────┴──────────┘\n"
     ]
    }
   ],
   "source": [
    "print(data.shape)\n",
    "print(data.head())\n",
    "print(data.describe())"
   ]
  },
  {
   "cell_type": "code",
   "execution_count": 7,
   "id": "5c0e91ef-c124-4b06-87ca-551005ed6c2b",
   "metadata": {},
   "outputs": [
    {
     "name": "stdout",
     "output_type": "stream",
     "text": [
      "Missing values before:\n",
      "shape: (1, 11)\n",
      "┌───────────┬───────────┬───────────┬───────────┬───┬───────────┬───────────┬───────────┬──────────┐\n",
      "│ engine_di ┆ num_cylin ┆ horsepowe ┆ vehicle_w ┆ … ┆ fuel_type ┆ drivetrai ┆ num_doors ┆ fuel_eff │\n",
      "│ splacemen ┆ ders      ┆ r         ┆ eight     ┆   ┆ ---       ┆ n         ┆ ---       ┆ iciency_ │\n",
      "│ t         ┆ ---       ┆ ---       ┆ ---       ┆   ┆ u32       ┆ ---       ┆ u32       ┆ mpg      │\n",
      "│ ---       ┆ u32       ┆ u32       ┆ u32       ┆   ┆           ┆ u32       ┆           ┆ ---      │\n",
      "│ u32       ┆           ┆           ┆           ┆   ┆           ┆           ┆           ┆ u32      │\n",
      "╞═══════════╪═══════════╪═══════════╪═══════════╪═══╪═══════════╪═══════════╪═══════════╪══════════╡\n",
      "│ 0         ┆ 0         ┆ 0         ┆ 0         ┆ … ┆ 0         ┆ 0         ┆ 0         ┆ 0        │\n",
      "└───────────┴───────────┴───────────┴───────────┴───┴───────────┴───────────┴───────────┴──────────┘\n",
      "\n",
      "Missing values after:\n",
      "shape: (1, 11)\n",
      "┌───────────┬───────────┬───────────┬───────────┬───┬───────────┬───────────┬───────────┬──────────┐\n",
      "│ engine_di ┆ num_cylin ┆ horsepowe ┆ vehicle_w ┆ … ┆ fuel_type ┆ drivetrai ┆ num_doors ┆ fuel_eff │\n",
      "│ splacemen ┆ ders      ┆ r         ┆ eight     ┆   ┆ ---       ┆ n         ┆ ---       ┆ iciency_ │\n",
      "│ t         ┆ ---       ┆ ---       ┆ ---       ┆   ┆ u32       ┆ ---       ┆ u32       ┆ mpg      │\n",
      "│ ---       ┆ u32       ┆ u32       ┆ u32       ┆   ┆           ┆ u32       ┆           ┆ ---      │\n",
      "│ u32       ┆           ┆           ┆           ┆   ┆           ┆           ┆           ┆ u32      │\n",
      "╞═══════════╪═══════════╪═══════════╪═══════════╪═══╪═══════════╪═══════════╪═══════════╪══════════╡\n",
      "│ 0         ┆ 0         ┆ 0         ┆ 0         ┆ … ┆ 0         ┆ 0         ┆ 0         ┆ 0        │\n",
      "└───────────┴───────────┴───────────┴───────────┴───┴───────────┴───────────┴───────────┴──────────┘\n"
     ]
    }
   ],
   "source": [
    "print(\"Missing values before:\")\n",
    "print(data.null_count())\n",
    "\n",
    "# Fill all missing values with 0\n",
    "df = data.fill_null(0)\n",
    "\n",
    "# Verify no missing values remain\n",
    "print(\"\\nMissing values after:\")\n",
    "print(df.null_count())"
   ]
  },
  {
   "cell_type": "code",
   "execution_count": 8,
   "id": "731954de-8bc0-41df-a155-db0b85058625",
   "metadata": {},
   "outputs": [
    {
     "name": "stdout",
     "output_type": "stream",
     "text": [
      "Total: 9704\n",
      "Train: 5822 (60.0%)\n",
      "Validation: 1941 (20.0%)\n",
      "Test: 1941 (20.0%)\n"
     ]
    }
   ],
   "source": [
    "from sklearn.model_selection import train_test_split\n",
    "import numpy as np\n",
    "\n",
    "# Create indices for splitting\n",
    "indices = np.arange(len(df))\n",
    "\n",
    "# First split: 60% train, 40% temp (validation + test)\n",
    "train_idx, temp_idx = train_test_split(indices, test_size=0.4, random_state=1)\n",
    "\n",
    "# Second split: split the 40% temp into 50/50 (giving us 20% validation, 20% test)\n",
    "val_idx, test_idx = train_test_split(temp_idx, test_size=0.5, random_state=1)\n",
    "\n",
    "# Use indices to select rows in Polars\n",
    "df_train = df[train_idx]\n",
    "df_val = df[val_idx]\n",
    "df_test = df[test_idx]\n",
    "\n",
    "# Verify the split proportions\n",
    "total = len(df)\n",
    "print(f\"Total: {total}\")\n",
    "print(f\"Train: {len(df_train)} ({len(df_train)/total*100:.1f}%)\")\n",
    "print(f\"Validation: {len(df_val)} ({len(df_val)/total*100:.1f}%)\")\n",
    "print(f\"Test: {len(df_test)} ({len(df_test)/total*100:.1f}%)\")"
   ]
  },
  {
   "cell_type": "code",
   "execution_count": 9,
   "id": "2ec6d6b1-5d23-41e9-b853-d0f6acf072f8",
   "metadata": {},
   "outputs": [
    {
     "name": "stdout",
     "output_type": "stream",
     "text": [
      "Train features shape: (5822, 10)\n",
      "Train target shape: (5822,)\n"
     ]
    }
   ],
   "source": [
    "# Separate target variable from features for each split\n",
    "y_train = df_train['fuel_efficiency_mpg'].to_numpy()\n",
    "y_val = df_val['fuel_efficiency_mpg'].to_numpy()\n",
    "y_test = df_test['fuel_efficiency_mpg'].to_numpy()\n",
    "\n",
    "# Remove target from features\n",
    "df_train = df_train.drop('fuel_efficiency_mpg')\n",
    "df_val = df_val.drop('fuel_efficiency_mpg')\n",
    "df_test = df_test.drop('fuel_efficiency_mpg')\n",
    "\n",
    "print(f\"Train features shape: {df_train.shape}\")\n",
    "print(f\"Train target shape: {y_train.shape}\")"
   ]
  },
  {
   "cell_type": "code",
   "execution_count": null,
   "id": "9e8b8398-96a5-4bb7-9355-3b2cabc377c0",
   "metadata": {},
   "outputs": [],
   "source": []
  }
 ],
 "metadata": {
  "kernelspec": {
   "display_name": "Python 3 (ipykernel)",
   "language": "python",
   "name": "python3"
  },
  "language_info": {
   "codemirror_mode": {
    "name": "ipython",
    "version": 3
   },
   "file_extension": ".py",
   "mimetype": "text/x-python",
   "name": "python",
   "nbconvert_exporter": "python",
   "pygments_lexer": "ipython3",
   "version": "3.12.1"
  }
 },
 "nbformat": 4,
 "nbformat_minor": 5
}
